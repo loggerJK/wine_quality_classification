{
 "cells": [
  {
   "cell_type": "markdown",
   "metadata": {},
   "source": [
    "# 전략\n",
    "\n",
    "- Outlier 제거\n",
    "- Feature Engineering\n",
    "    - str to categorical int\n",
    "- Feature Selection\n",
    "- Oversampling by ADASYN\n",
    "- tuned hyperparameter"
   ]
  },
  {
   "cell_type": "markdown",
   "metadata": {},
   "source": [
    "# 라이브러리 임포트"
   ]
  },
  {
   "cell_type": "code",
   "execution_count": 1,
   "metadata": {},
   "outputs": [
    {
     "name": "stdout",
     "output_type": "stream",
     "text": [
      "Requirement already satisfied: pandas-profiling in /home/jiwon/anaconda3/lib/python3.9/site-packages (3.1.0)\n",
      "Requirement already satisfied: optuna in /home/jiwon/anaconda3/lib/python3.9/site-packages (2.10.0)\n",
      "Requirement already satisfied: seaborn>=0.10.1 in /home/jiwon/anaconda3/lib/python3.9/site-packages (from pandas-profiling) (0.11.2)\n",
      "Requirement already satisfied: matplotlib>=3.2.0 in /home/jiwon/anaconda3/lib/python3.9/site-packages (from pandas-profiling) (3.4.3)\n",
      "Requirement already satisfied: scipy>=1.4.1 in /home/jiwon/anaconda3/lib/python3.9/site-packages (from pandas-profiling) (1.7.1)\n",
      "Requirement already satisfied: pydantic>=1.8.1 in /home/jiwon/anaconda3/lib/python3.9/site-packages (from pandas-profiling) (1.8.2)\n",
      "Requirement already satisfied: jinja2>=2.11.1 in /home/jiwon/anaconda3/lib/python3.9/site-packages (from pandas-profiling) (2.11.3)\n",
      "Requirement already satisfied: numpy>=1.16.0 in /home/jiwon/anaconda3/lib/python3.9/site-packages (from pandas-profiling) (1.20.3)\n",
      "Requirement already satisfied: multimethod>=1.4 in /home/jiwon/anaconda3/lib/python3.9/site-packages (from pandas-profiling) (1.6)\n",
      "Requirement already satisfied: phik>=0.11.1 in /home/jiwon/anaconda3/lib/python3.9/site-packages (from pandas-profiling) (0.12.0)\n",
      "Requirement already satisfied: htmlmin>=0.1.12 in /home/jiwon/anaconda3/lib/python3.9/site-packages (from pandas-profiling) (0.1.12)\n",
      "Requirement already satisfied: tangled-up-in-unicode==0.1.0 in /home/jiwon/anaconda3/lib/python3.9/site-packages (from pandas-profiling) (0.1.0)\n",
      "Requirement already satisfied: PyYAML>=5.0.0 in /home/jiwon/anaconda3/lib/python3.9/site-packages (from pandas-profiling) (6.0)\n",
      "Requirement already satisfied: requests>=2.24.0 in /home/jiwon/anaconda3/lib/python3.9/site-packages (from pandas-profiling) (2.26.0)\n",
      "Requirement already satisfied: tqdm>=4.48.2 in /home/jiwon/anaconda3/lib/python3.9/site-packages (from pandas-profiling) (4.62.3)\n",
      "Requirement already satisfied: pandas!=1.0.0,!=1.0.1,!=1.0.2,!=1.1.0,>=0.25.3 in /home/jiwon/anaconda3/lib/python3.9/site-packages (from pandas-profiling) (1.3.4)\n",
      "Requirement already satisfied: missingno>=0.4.2 in /home/jiwon/anaconda3/lib/python3.9/site-packages (from pandas-profiling) (0.5.0)\n",
      "Requirement already satisfied: joblib~=1.0.1 in /home/jiwon/anaconda3/lib/python3.9/site-packages (from pandas-profiling) (1.0.1)\n",
      "Requirement already satisfied: visions[type_image_path]==0.7.4 in /home/jiwon/anaconda3/lib/python3.9/site-packages (from pandas-profiling) (0.7.4)\n",
      "Requirement already satisfied: markupsafe~=2.0.1 in /home/jiwon/anaconda3/lib/python3.9/site-packages (from pandas-profiling) (2.0.1)\n",
      "Requirement already satisfied: attrs>=19.3.0 in /home/jiwon/anaconda3/lib/python3.9/site-packages (from visions[type_image_path]==0.7.4->pandas-profiling) (21.2.0)\n",
      "Requirement already satisfied: networkx>=2.4 in /home/jiwon/anaconda3/lib/python3.9/site-packages (from visions[type_image_path]==0.7.4->pandas-profiling) (2.6.3)\n",
      "Requirement already satisfied: imagehash in /home/jiwon/anaconda3/lib/python3.9/site-packages (from visions[type_image_path]==0.7.4->pandas-profiling) (4.2.1)\n",
      "Requirement already satisfied: Pillow in /home/jiwon/anaconda3/lib/python3.9/site-packages (from visions[type_image_path]==0.7.4->pandas-profiling) (8.4.0)\n",
      "Requirement already satisfied: colorlog in /home/jiwon/anaconda3/lib/python3.9/site-packages (from optuna) (6.6.0)\n",
      "Requirement already satisfied: cmaes>=0.8.2 in /home/jiwon/anaconda3/lib/python3.9/site-packages (from optuna) (0.8.2)\n",
      "Requirement already satisfied: packaging>=20.0 in /home/jiwon/anaconda3/lib/python3.9/site-packages (from optuna) (21.0)\n",
      "Requirement already satisfied: alembic in /home/jiwon/anaconda3/lib/python3.9/site-packages (from optuna) (1.7.5)\n",
      "Requirement already satisfied: cliff in /home/jiwon/anaconda3/lib/python3.9/site-packages (from optuna) (3.10.0)\n",
      "Requirement already satisfied: sqlalchemy>=1.1.0 in /home/jiwon/anaconda3/lib/python3.9/site-packages (from optuna) (1.4.22)\n",
      "Requirement already satisfied: kiwisolver>=1.0.1 in /home/jiwon/anaconda3/lib/python3.9/site-packages (from matplotlib>=3.2.0->pandas-profiling) (1.3.1)\n",
      "Requirement already satisfied: pyparsing>=2.2.1 in /home/jiwon/anaconda3/lib/python3.9/site-packages (from matplotlib>=3.2.0->pandas-profiling) (3.0.4)\n",
      "Requirement already satisfied: cycler>=0.10 in /home/jiwon/anaconda3/lib/python3.9/site-packages (from matplotlib>=3.2.0->pandas-profiling) (0.10.0)\n",
      "Requirement already satisfied: python-dateutil>=2.7 in /home/jiwon/anaconda3/lib/python3.9/site-packages (from matplotlib>=3.2.0->pandas-profiling) (2.8.2)\n",
      "Requirement already satisfied: six in /home/jiwon/anaconda3/lib/python3.9/site-packages (from cycler>=0.10->matplotlib>=3.2.0->pandas-profiling) (1.16.0)\n",
      "Requirement already satisfied: pytz>=2017.3 in /home/jiwon/anaconda3/lib/python3.9/site-packages (from pandas!=1.0.0,!=1.0.1,!=1.0.2,!=1.1.0,>=0.25.3->pandas-profiling) (2021.3)\n",
      "Requirement already satisfied: typing-extensions>=3.7.4.3 in /home/jiwon/anaconda3/lib/python3.9/site-packages (from pydantic>=1.8.1->pandas-profiling) (3.10.0.2)\n",
      "Requirement already satisfied: urllib3<1.27,>=1.21.1 in /home/jiwon/anaconda3/lib/python3.9/site-packages (from requests>=2.24.0->pandas-profiling) (1.26.7)\n",
      "Requirement already satisfied: idna<4,>=2.5 in /home/jiwon/anaconda3/lib/python3.9/site-packages (from requests>=2.24.0->pandas-profiling) (3.2)\n",
      "Requirement already satisfied: certifi>=2017.4.17 in /home/jiwon/anaconda3/lib/python3.9/site-packages (from requests>=2.24.0->pandas-profiling) (2021.10.8)\n",
      "Requirement already satisfied: charset-normalizer~=2.0.0 in /home/jiwon/anaconda3/lib/python3.9/site-packages (from requests>=2.24.0->pandas-profiling) (2.0.4)\n",
      "Requirement already satisfied: greenlet!=0.4.17 in /home/jiwon/anaconda3/lib/python3.9/site-packages (from sqlalchemy>=1.1.0->optuna) (1.1.1)\n",
      "Requirement already satisfied: Mako in /home/jiwon/anaconda3/lib/python3.9/site-packages (from alembic->optuna) (1.1.6)\n",
      "Requirement already satisfied: PrettyTable>=0.7.2 in /home/jiwon/anaconda3/lib/python3.9/site-packages (from cliff->optuna) (2.4.0)\n",
      "Requirement already satisfied: pbr!=2.1.0,>=2.0.0 in /home/jiwon/anaconda3/lib/python3.9/site-packages (from cliff->optuna) (5.8.0)\n",
      "Requirement already satisfied: autopage>=0.4.0 in /home/jiwon/anaconda3/lib/python3.9/site-packages (from cliff->optuna) (0.4.0)\n",
      "Requirement already satisfied: stevedore>=2.0.1 in /home/jiwon/anaconda3/lib/python3.9/site-packages (from cliff->optuna) (3.5.0)\n",
      "Requirement already satisfied: cmd2>=1.0.0 in /home/jiwon/anaconda3/lib/python3.9/site-packages (from cliff->optuna) (2.3.3)\n",
      "Requirement already satisfied: pyperclip>=1.6 in /home/jiwon/anaconda3/lib/python3.9/site-packages (from cmd2>=1.0.0->cliff->optuna) (1.8.2)\n",
      "Requirement already satisfied: wcwidth>=0.1.7 in /home/jiwon/anaconda3/lib/python3.9/site-packages (from cmd2>=1.0.0->cliff->optuna) (0.2.5)\n",
      "Requirement already satisfied: PyWavelets in /home/jiwon/anaconda3/lib/python3.9/site-packages (from imagehash->visions[type_image_path]==0.7.4->pandas-profiling) (1.1.1)\n"
     ]
    }
   ],
   "source": [
    "! pip install -U pandas-profiling optuna"
   ]
  },
  {
   "cell_type": "code",
   "execution_count": 2,
   "metadata": {},
   "outputs": [],
   "source": [
    "import numpy as np\n",
    "import pandas as pd\n",
    "import seaborn as sns\n",
    "import matplotlib.pyplot as plt\n",
    "import pandas_profiling\n",
    "from xgboost import XGBClassifier\n",
    "import xgboost\n",
    "from sklearn.model_selection import StratifiedKFold\n",
    "from sklearn.metrics import accuracy_score\n",
    "from imblearn.over_sampling import ADASYN\n",
    "%matplotlib inline"
   ]
  },
  {
   "cell_type": "markdown",
   "metadata": {},
   "source": [
    "# 데이터 불러오기"
   ]
  },
  {
   "cell_type": "code",
   "execution_count": 3,
   "metadata": {},
   "outputs": [],
   "source": [
    "train = pd.read_csv('./dataset/train.csv')\n",
    "test = pd.read_csv('./dataset/train.csv')"
   ]
  },
  {
   "cell_type": "code",
   "execution_count": 4,
   "metadata": {},
   "outputs": [
    {
     "name": "stdout",
     "output_type": "stream",
     "text": [
      "<class 'pandas.core.frame.DataFrame'>\n",
      "RangeIndex: 3231 entries, 0 to 3230\n",
      "Data columns (total 14 columns):\n",
      " #   Column                Non-Null Count  Dtype  \n",
      "---  ------                --------------  -----  \n",
      " 0   id                    3231 non-null   int64  \n",
      " 1   fixed acidity         3231 non-null   float64\n",
      " 2   volatile acidity      3231 non-null   float64\n",
      " 3   citric acid           3231 non-null   float64\n",
      " 4   residual sugar        3231 non-null   float64\n",
      " 5   chlorides             3231 non-null   float64\n",
      " 6   free sulfur dioxide   3231 non-null   float64\n",
      " 7   total sulfur dioxide  3231 non-null   float64\n",
      " 8   density               3231 non-null   float64\n",
      " 9   pH                    3231 non-null   float64\n",
      " 10  sulphates             3231 non-null   float64\n",
      " 11  alcohol               3231 non-null   float64\n",
      " 12  type                  3231 non-null   object \n",
      " 13  quality               3231 non-null   int64  \n",
      "dtypes: float64(11), int64(2), object(1)\n",
      "memory usage: 353.5+ KB\n"
     ]
    }
   ],
   "source": [
    "train.info()"
   ]
  },
  {
   "cell_type": "code",
   "execution_count": 5,
   "metadata": {},
   "outputs": [
    {
     "name": "stdout",
     "output_type": "stream",
     "text": [
      "<class 'pandas.core.frame.DataFrame'>\n",
      "RangeIndex: 3231 entries, 0 to 3230\n",
      "Data columns (total 14 columns):\n",
      " #   Column                Non-Null Count  Dtype  \n",
      "---  ------                --------------  -----  \n",
      " 0   id                    3231 non-null   int64  \n",
      " 1   fixed acidity         3231 non-null   float64\n",
      " 2   volatile acidity      3231 non-null   float64\n",
      " 3   citric acid           3231 non-null   float64\n",
      " 4   residual sugar        3231 non-null   float64\n",
      " 5   chlorides             3231 non-null   float64\n",
      " 6   free sulfur dioxide   3231 non-null   float64\n",
      " 7   total sulfur dioxide  3231 non-null   float64\n",
      " 8   density               3231 non-null   float64\n",
      " 9   pH                    3231 non-null   float64\n",
      " 10  sulphates             3231 non-null   float64\n",
      " 11  alcohol               3231 non-null   float64\n",
      " 12  type                  3231 non-null   object \n",
      " 13  quality               3231 non-null   int64  \n",
      "dtypes: float64(11), int64(2), object(1)\n",
      "memory usage: 353.5+ KB\n"
     ]
    }
   ],
   "source": [
    "test.info()"
   ]
  },
  {
   "cell_type": "markdown",
   "metadata": {},
   "source": [
    "## Outlier 제거"
   ]
  },
  {
   "cell_type": "code",
   "execution_count": 6,
   "metadata": {},
   "outputs": [],
   "source": [
    "train = train[train.density < 1.03]"
   ]
  },
  {
   "cell_type": "code",
   "execution_count": 7,
   "metadata": {},
   "outputs": [
    {
     "name": "stdout",
     "output_type": "stream",
     "text": [
      "<class 'pandas.core.frame.DataFrame'>\n",
      "Int64Index: 3230 entries, 0 to 3230\n",
      "Data columns (total 14 columns):\n",
      " #   Column                Non-Null Count  Dtype  \n",
      "---  ------                --------------  -----  \n",
      " 0   id                    3230 non-null   int64  \n",
      " 1   fixed acidity         3230 non-null   float64\n",
      " 2   volatile acidity      3230 non-null   float64\n",
      " 3   citric acid           3230 non-null   float64\n",
      " 4   residual sugar        3230 non-null   float64\n",
      " 5   chlorides             3230 non-null   float64\n",
      " 6   free sulfur dioxide   3230 non-null   float64\n",
      " 7   total sulfur dioxide  3230 non-null   float64\n",
      " 8   density               3230 non-null   float64\n",
      " 9   pH                    3230 non-null   float64\n",
      " 10  sulphates             3230 non-null   float64\n",
      " 11  alcohol               3230 non-null   float64\n",
      " 12  type                  3230 non-null   object \n",
      " 13  quality               3230 non-null   int64  \n",
      "dtypes: float64(11), int64(2), object(1)\n",
      "memory usage: 378.5+ KB\n"
     ]
    }
   ],
   "source": [
    "train.info()"
   ]
  },
  {
   "cell_type": "markdown",
   "metadata": {},
   "source": [
    "## type column 전처리\n",
    "- str to categorical int"
   ]
  },
  {
   "cell_type": "code",
   "execution_count": 8,
   "metadata": {},
   "outputs": [],
   "source": [
    "train.loc[train['type'] == 'white', 'type'] = 0\n",
    "train.loc[train['type'] == 'red', 'type'] = 1\n",
    "train['type'] = train['type'].astype('int')\n",
    "test.loc[test['type'] == 'white', 'type'] = 0\n",
    "test.loc[test['type'] == 'red', 'type'] = 1\n",
    "test['type'] = test['type'].astype('int')"
   ]
  },
  {
   "cell_type": "markdown",
   "metadata": {},
   "source": [
    "## Feature Selection"
   ]
  },
  {
   "cell_type": "code",
   "execution_count": 9,
   "metadata": {},
   "outputs": [],
   "source": [
    "train = train[[\n",
    "    # 'id',\n",
    "    'fixed acidity',\n",
    "    'volatile acidity',\n",
    "    'citric acid',\n",
    "    'residual sugar',\n",
    "    'chlorides',\n",
    "    'free sulfur dioxide',\n",
    "    'total sulfur dioxide',\n",
    "    'density',\n",
    "    'pH',\n",
    "    'sulphates',\n",
    "    'alcohol',\n",
    "    'type',\n",
    "    'quality',\n",
    "]]\n",
    "\n",
    "test = test[[\n",
    "    # 'id',\n",
    "    'fixed acidity',\n",
    "    'volatile acidity',\n",
    "    'citric acid',\n",
    "    'residual sugar',\n",
    "    'chlorides',\n",
    "    'free sulfur dioxide',\n",
    "    'total sulfur dioxide',\n",
    "    'density',\n",
    "    'pH',\n",
    "    'sulphates',\n",
    "    'alcohol',\n",
    "    'type',\n",
    "]]\n"
   ]
  },
  {
   "cell_type": "markdown",
   "metadata": {},
   "source": [
    "## Train Test Split\n",
    "\n",
    "test set과 validation set으로 분리한다"
   ]
  },
  {
   "cell_type": "code",
   "execution_count": 51,
   "metadata": {},
   "outputs": [],
   "source": [
    "from sklearn.model_selection import train_test_split\n",
    "X_train = train.drop('quality', axis=1)\n",
    "y_train = train['quality']\n",
    "X_train, X_val, y_train, y_val = train_test_split(X_train, y_train, shuffle=True, stratify=y_train, random_state=42)\n",
    "# X_train, X_val, y_train, y_val = train_test_split(X_train, y_train, shuffle=False, )"
   ]
  },
  {
   "cell_type": "code",
   "execution_count": 49,
   "metadata": {},
   "outputs": [
    {
     "name": "stdout",
     "output_type": "stream",
     "text": [
      "6    1062\n",
      "5     802\n",
      "7     404\n",
      "4      81\n",
      "8      73\n",
      "Name: quality, dtype: int64\n"
     ]
    },
    {
     "data": {
      "image/png": "[encoded data removed]",
      "text/plain": [
       "<Figure size 360x360 with 1 Axes>"
      ]
     },
     "metadata": {
      "needs_background": "light"
     },
     "output_type": "display_data"
    }
   ],
   "source": [
    "print(y_train.value_counts())\n",
    "\n",
    "fig, ax = plt.subplots(1, 1, figsize=(5, 5))\n",
    "var = y_train.value_counts()\n",
    "plt.bar(var.index, var)\n",
    "plt.show()"
   ]
  },
  {
   "cell_type": "code",
   "execution_count": 50,
   "metadata": {},
   "outputs": [
    {
     "name": "stdout",
     "output_type": "stream",
     "text": [
      "6    355\n",
      "5    267\n",
      "7    135\n",
      "4     27\n",
      "8     24\n",
      "Name: quality, dtype: int64\n"
     ]
    },
    {
     "data": {
      "image/png": "[encoded data removed]",
      "text/plain": [
       "<Figure size 360x360 with 1 Axes>"
      ]
     },
     "metadata": {
      "needs_background": "light"
     },
     "output_type": "display_data"
    }
   ],
   "source": [
    "print(y_val.value_counts())\n",
    "\n",
    "fig, ax = plt.subplots(1, 1, figsize=(5, 5))\n",
    "var = y_val.value_counts()\n",
    "plt.bar(var.index, var)\n",
    "plt.show()"
   ]
  },
  {
   "cell_type": "markdown",
   "metadata": {},
   "source": [
    "## Over Sampling with ADASYN"
   ]
  },
  {
   "cell_type": "markdown",
   "metadata": {},
   "source": [
    "먼저 train을 X_train, y_train으로 분리한다"
   ]
  },
  {
   "cell_type": "code",
   "execution_count": 13,
   "metadata": {},
   "outputs": [],
   "source": [
    "X_train = train.drop('quality', axis=1)\n",
    "y_train = train['quality']"
   ]
  },
  {
   "cell_type": "code",
   "execution_count": 13,
   "metadata": {},
   "outputs": [
    {
     "name": "stdout",
     "output_type": "stream",
     "text": [
      "6    1417\n",
      "5    1069\n",
      "7     539\n",
      "4     108\n",
      "8      97\n",
      "Name: quality, dtype: int64\n"
     ]
    },
    {
     "data": {
      "image/png": "[encoded data removed]",
      "text/plain": [
       "<Figure size 360x360 with 1 Axes>"
      ]
     },
     "metadata": {
      "needs_background": "light"
     },
     "output_type": "display_data"
    }
   ],
   "source": [
    "fig, ax = plt.subplots(1, 1, figsize=(5, 5))\n",
    "var = train['quality'].value_counts()\n",
    "print(var)\n",
    "plt.bar(var.index, var)\n",
    "plt.show()"
   ]
  },
  {
   "cell_type": "code",
   "execution_count": null,
   "metadata": {},
   "outputs": [],
   "source": [
    "sampling_strategy = {4: 400, 7:800, 8: 400}\n",
    "ada = ADASYN(random_state=42, sampling_strategy=sampling_strategy)\n",
    "X_train_resampled, y_train_resampled = ada.fit_resample(X_train, y_train)\n",
    "\n",
    "# 오버 샘플링 결과\n",
    "fig, ax = plt.subplots(1, 1, figsize=(5, 5))\n",
    "var = y_train_resampled.value_counts()\n",
    "plt.bar(var.index, var)\n",
    "plt.show()"
   ]
  },
  {
   "cell_type": "markdown",
   "metadata": {},
   "source": [
    "## PCA 분석 + 2D scatter plot"
   ]
  },
  {
   "cell_type": "code",
   "execution_count": 71,
   "metadata": {},
   "outputs": [
    {
     "data": {
      "text/plain": [
       "array([4, 5, 6, 7, 8])"
      ]
     },
     "execution_count": 71,
     "metadata": {},
     "output_type": "execute_result"
    }
   ],
   "source": [
    "# y_train에 있는 값의 개수\n",
    "np.unique(y_train)"
   ]
  },
  {
   "cell_type": "code",
   "execution_count": 69,
   "metadata": {},
   "outputs": [],
   "source": [
    "def plot_2d_space(X, y, label='Classes'):   \n",
    "    colors = ['#1F77B4', '#FF7F0E']\n",
    "    markers = ['o', 's']\n",
    "    for l, c, m in zip(np.unique(y), colors, markers):\n",
    "        plt.scatter(\n",
    "            X[y==l, 0],\n",
    "            X[y==l, 1],\n",
    "            c=c, label=l, marker=m\n",
    "        )\n",
    "    plt.title(label)\n",
    "    plt.legend(loc='upper right')\n",
    "    plt.show()"
   ]
  },
  {
   "cell_type": "code",
   "execution_count": 43,
   "metadata": {},
   "outputs": [
    {
     "data": {
      "text/plain": [
       "<matplotlib.legend.Legend at 0x7feff77a5f10>"
      ]
     },
     "execution_count": 43,
     "metadata": {},
     "output_type": "execute_result"
    },
    {
     "data": {
      "image/png": "[encoded data removed]",
      "text/plain": [
       "<Figure size 432x288 with 1 Axes>"
      ]
     },
     "metadata": {
      "needs_background": "light"
     },
     "output_type": "display_data"
    }
   ],
   "source": [
    "from sklearn.decomposition import PCA\n",
    "pca= PCA(n_components=2)\n",
    "X_train_pca = pca.fit_transform(X_train)\n",
    "X_train_pca.shape\n",
    "\n",
    "# np.unique(y_train) = [4, 5, 6 7, 8]\n",
    "# for l in np.unique(y_train):\n",
    "#     plt.scatter(x=X_train_pca[y_train==l,0],y=X_train_pca[y_train==l,1], alpha=0.5, label=l)\n",
    "\n",
    "# plt.scatter(x=X_train_pca[y_train==4,0],y=X_train_pca[y_train==4,1], alpha=0.5, label=4)\n",
    "# plt.scatter(x=X_train_pca[y_train==5,0],y=X_train_pca[y_train==5,1], alpha=0.5, label=5)\n",
    "# plt.scatter(x=X_train_pca[y_train==6,0],y=X_train_pca[y_train==6,1], alpha=0.5, label=6)\n",
    "# plt.scatter(x=X_train_pca[y_train==7,0],y=X_train_pca[y_train==7,1], alpha=0.5, label=7)\n",
    "# plt.scatter(x=X_train_pca[y_train==8,0],y=X_train_pca[y_train==8,1], alpha=0.5, label=8)\n",
    "\n",
    "plt.legend()\n"
   ]
  },
  {
   "cell_type": "code",
   "execution_count": 31,
   "metadata": {},
   "outputs": [
    {
     "data": {
      "image/png": "[encoded data removed]",
      "text/plain": [
       "<Figure size 360x360 with 1 Axes>"
      ]
     },
     "metadata": {
      "needs_background": "light"
     },
     "output_type": "display_data"
    }
   ],
   "source": []
  },
  {
   "cell_type": "markdown",
   "metadata": {},
   "source": [
    "# 하이퍼 파라미터 튜닝"
   ]
  },
  {
   "cell_type": "markdown",
   "metadata": {},
   "source": [
    "GROUP 1: max_depth , min_child_weight\n",
    "\n",
    "GROUP 2: subsample, colsample_bytree\n",
    "\n",
    "GROUP 3: learning_rate, num_boost_round\n",
    "\n",
    "순차적으로 tuning을 진행한다. 한 그룹의 튜닝을 진행할 때, 다른 모든 그룹은 값을 고정한다. 튜닝을 진행한 값은 고정하여 이후에 다시 변하지 않는다. ```learing_rate, num_boos_round```는 각각 0.1과 1000으로 고정한다"
   ]
  },
  {
   "cell_type": "code",
   "execution_count": null,
   "metadata": {},
   "outputs": [],
   "source": [
    "import optuna\n",
    "from sklearn.metrics import log_loss\n",
    "\n",
    "\n",
    "# 순차적으로 업데이트를 진행할 것이기 때문에 params dict를 불러온다\n",
    "def objective(trial, X, y, group, params=dict()):\n",
    "    ## Initial Learning Parameters\n",
    "    params['learning_rate'] = 0.1\n",
    "    params['num_boost_round'] = 1000\n",
    "\n",
    "    if group == '1':\n",
    "        params['max_depth'] = trial.suggest_int('max_depth', 2, 5)\n",
    "        params['min_child_weight'] = trial.suggest_loguniform(\n",
    "            'min_child_weight', 1e-1, 1e5)\n",
    "\n",
    "    if group == '2':\n",
    "        params['subsample'] = trial.suggest_uniform('subsample', 0, 1)\n",
    "        params['colsample_bytree'] = trial.suggest_uniform(\n",
    "            'colsample_bytree', 0, 1)\n",
    "\n",
    "    if group == '3':\n",
    "        params['learning_rate'] = trial.suggest_uniform(\n",
    "            'learning_rate', 0, 0.1)\n",
    "        params['num_boost_round'] = trial.suggest_int('num_boost_round', 100,\n",
    "                                                      1000)\n",
    "\n",
    "    model = XGBClassifier(**params)\n",
    "    loss_list = []\n",
    "    skf = StratifiedKFold(n_splits=3)\n",
    "    for train_index, val_index in skf.split(X_train, y_train):\n",
    "        # print(train_index)\n",
    "        train_x = X_train.iloc[train_index]\n",
    "        train_y = y_train.iloc[train_index]\n",
    "        val_x = X_train.iloc[val_index]\n",
    "        val_y = y_train.iloc[val_index]\n",
    "        model.fit(X=X_train,\n",
    "                  y=y_train,\n",
    "                  eval_set=[(val_x, val_y)],\n",
    "                  eval_metric='mlogloss',\n",
    "                  early_stopping_rounds=30,\n",
    "                  verbose=False)\n",
    "        loss = log_loss(y_true=val_y, y_pred=model.predict_proba(val_x))\n",
    "        loss_list.append(loss)\n",
    "    # print(f'loss_list = {loss_list}')\n",
    "\n",
    "    # 평균 loss를 반환한다\n",
    "    return np.array(loss_list).mean()\n",
    "\n",
    "\n",
    "# 각 group마다 trials만큼 hyperparameter tuning을 실시한다\n",
    "study_dict = dict()\n",
    "\n",
    "\n",
    "def stepwise_optimization(x, y, trials=10):\n",
    "    final_params = dict()\n",
    "\n",
    "    for group_num in ['1', '2', '3']:\n",
    "        print(\n",
    "            f\"=========================== Optimizing Group - {group_num} ============================\"\n",
    "        )\n",
    "\n",
    "        study = optuna.create_study(direction='minimize')\n",
    "\n",
    "        study.optimize(lambda trial: objective(\n",
    "            trial, x, y, group=group_num, params=final_params),\n",
    "                       n_trials=trials)\n",
    "        print(\"BEST CV SCORE\", study.best_value)\n",
    "        print(f\"OPTIMAL GROUP - {group_num} PARAMS: \", study.best_params)\n",
    "\n",
    "        final_params.update(study.best_params)\n",
    "\n",
    "        study_dict[group_num] = study\n",
    "\n",
    "    print(f'BEST SCORE : {study.best_value}')\n",
    "    print(f\"PARAMS after optimizing GROUP - {group_num}: \", final_params)\n",
    "    print()\n",
    "    print()\n",
    "\n",
    "    print(\n",
    "        \"=========================== FINAL OPTIMAL PARAMETERS ============================\"\n",
    "    )\n",
    "    print(final_params)\n",
    "\n",
    "    return final_params\n",
    "\n",
    "\n",
    "best_param = stepwise_optimization(20,\n",
    "                                   x=X_train_resampled,\n",
    "                                   y=y_train_resampled)\n"
   ]
  },
  {
   "cell_type": "markdown",
   "metadata": {},
   "source": [
    "# 모델 준비"
   ]
  },
  {
   "cell_type": "markdown",
   "metadata": {},
   "source": [
    "- best_param을 이용하여 모델 정의\n",
    "- StratifiedKFold를 이용하여 Cross Validation 수행"
   ]
  },
  {
   "cell_type": "code",
   "execution_count": 12,
   "metadata": {},
   "outputs": [],
   "source": [
    "model = XGBClassifier(objective='multi:softprob')\n",
    "# best_param = {'learning_rate': 0.09986748150113252, 'num_boost_round': 154, 'max_depth': 5, 'min_child_weight': 0.11093080963429129, 'subsample': 0.8359806275799544, 'colsample_bytree': 0.7573975639904268}\n",
    "# model = XGBClassifier(objective='multi:softprob', **best_param)\n"
   ]
  },
  {
   "cell_type": "code",
   "execution_count": 13,
   "metadata": {},
   "outputs": [
    {
     "data": {
      "text/plain": [
       "{'objective': 'binary:logistic',\n",
       " 'use_label_encoder': True,\n",
       " 'base_score': None,\n",
       " 'booster': None,\n",
       " 'colsample_bylevel': None,\n",
       " 'colsample_bynode': None,\n",
       " 'colsample_bytree': None,\n",
       " 'enable_categorical': False,\n",
       " 'gamma': None,\n",
       " 'gpu_id': None,\n",
       " 'importance_type': None,\n",
       " 'interaction_constraints': None,\n",
       " 'learning_rate': None,\n",
       " 'max_delta_step': None,\n",
       " 'max_depth': None,\n",
       " 'min_child_weight': None,\n",
       " 'missing': nan,\n",
       " 'monotone_constraints': None,\n",
       " 'n_estimators': 100,\n",
       " 'n_jobs': None,\n",
       " 'num_parallel_tree': None,\n",
       " 'predictor': None,\n",
       " 'random_state': None,\n",
       " 'reg_alpha': None,\n",
       " 'reg_lambda': None,\n",
       " 'scale_pos_weight': None,\n",
       " 'subsample': None,\n",
       " 'tree_method': None,\n",
       " 'validate_parameters': None,\n",
       " 'verbosity': None}"
      ]
     },
     "execution_count": 13,
     "metadata": {},
     "output_type": "execute_result"
    }
   ],
   "source": [
    "model.get_params()"
   ]
  },
  {
   "cell_type": "code",
   "execution_count": 46,
   "metadata": {},
   "outputs": [
    {
     "name": "stdout",
     "output_type": "stream",
     "text": [
      "[ 294  302  304 ... 3227 3228 3229]\n"
     ]
    },
    {
     "ename": "NameError",
     "evalue": "name 'y_train_resampled' is not defined",
     "output_type": "error",
     "traceback": [
      "\u001b[0;31m---------------------------------------------------------------------------\u001b[0m",
      "\u001b[0;31mNameError\u001b[0m                                 Traceback (most recent call last)",
      "\u001b[0;32m/tmp/ipykernel_5251/4008615384.py\u001b[0m in \u001b[0;36m<module>\u001b[0;34m\u001b[0m\n\u001b[1;32m     18\u001b[0m \u001b[0;34m\u001b[0m\u001b[0m\n\u001b[1;32m     19\u001b[0m \u001b[0;34m\u001b[0m\u001b[0m\n\u001b[0;32m---> 20\u001b[0;31m \u001b[0mcv_train\u001b[0m\u001b[0;34m(\u001b[0m\u001b[0mX_train\u001b[0m\u001b[0;34m,\u001b[0m \u001b[0my_train\u001b[0m\u001b[0;34m)\u001b[0m\u001b[0;34m\u001b[0m\u001b[0;34m\u001b[0m\u001b[0m\n\u001b[0m",
      "\u001b[0;32m/tmp/ipykernel_5251/4008615384.py\u001b[0m in \u001b[0;36mcv_train\u001b[0;34m(x, y)\u001b[0m\n\u001b[1;32m      5\u001b[0m         \u001b[0mprint\u001b[0m\u001b[0;34m(\u001b[0m\u001b[0mtrain_index\u001b[0m\u001b[0;34m)\u001b[0m\u001b[0;34m\u001b[0m\u001b[0;34m\u001b[0m\u001b[0m\n\u001b[1;32m      6\u001b[0m         \u001b[0mtrain_x\u001b[0m \u001b[0;34m=\u001b[0m \u001b[0mx\u001b[0m\u001b[0;34m.\u001b[0m\u001b[0miloc\u001b[0m\u001b[0;34m[\u001b[0m\u001b[0mtrain_index\u001b[0m\u001b[0;34m]\u001b[0m\u001b[0;34m\u001b[0m\u001b[0;34m\u001b[0m\u001b[0m\n\u001b[0;32m----> 7\u001b[0;31m         \u001b[0mtrain_y\u001b[0m \u001b[0;34m=\u001b[0m \u001b[0my_train_resampled\u001b[0m\u001b[0;34m.\u001b[0m\u001b[0miloc\u001b[0m\u001b[0;34m[\u001b[0m\u001b[0mtrain_index\u001b[0m\u001b[0;34m]\u001b[0m\u001b[0;34m\u001b[0m\u001b[0;34m\u001b[0m\u001b[0m\n\u001b[0m\u001b[1;32m      8\u001b[0m         \u001b[0mval_x\u001b[0m \u001b[0;34m=\u001b[0m \u001b[0mx\u001b[0m\u001b[0;34m.\u001b[0m\u001b[0miloc\u001b[0m\u001b[0;34m[\u001b[0m\u001b[0mval_index\u001b[0m\u001b[0;34m]\u001b[0m\u001b[0;34m\u001b[0m\u001b[0;34m\u001b[0m\u001b[0m\n\u001b[1;32m      9\u001b[0m         \u001b[0mval_y\u001b[0m \u001b[0;34m=\u001b[0m \u001b[0my\u001b[0m\u001b[0;34m.\u001b[0m\u001b[0miloc\u001b[0m\u001b[0;34m[\u001b[0m\u001b[0mval_index\u001b[0m\u001b[0;34m]\u001b[0m\u001b[0;34m\u001b[0m\u001b[0;34m\u001b[0m\u001b[0m\n",
      "\u001b[0;31mNameError\u001b[0m: name 'y_train_resampled' is not defined"
     ]
    }
   ],
   "source": [
    "def cv_train(x, y):\n",
    "    results = []\n",
    "    skf = StratifiedKFold(n_splits=10)\n",
    "    for train_index, val_index in skf.split(x, y):\n",
    "        print(train_index)\n",
    "        train_x = x.iloc[train_index]\n",
    "        train_y = y.iloc[train_index]\n",
    "        val_x = x.iloc[val_index]\n",
    "        val_y = y.iloc[val_index]\n",
    "        model.fit(X=x,\n",
    "                  y=y,\n",
    "                  eval_set=[(val_x, val_y)],\n",
    "                  eval_metric=['merror', 'mlogloss'],\n",
    "                  early_stopping_rounds=10)\n",
    "        results.append(model.evals_result())\n",
    "\n",
    "    return results\n",
    "\n",
    "\n",
    "cv_train(X_train, y_train)\n"
   ]
  },
  {
   "cell_type": "code",
   "execution_count": null,
   "metadata": {},
   "outputs": [
    {
     "data": {
      "text/plain": [
       "0.6563467492260062"
      ]
     },
     "execution_count": 35,
     "metadata": {},
     "output_type": "execute_result"
    }
   ],
   "source": [
    "X_train_pred = model.predict(X_train)\n",
    "np.mean(X_train_pred == y_train)"
   ]
  },
  {
   "cell_type": "code",
   "execution_count": null,
   "metadata": {},
   "outputs": [
    {
     "ename": "ValueError",
     "evalue": "DataFrame.dtypes for data must be int, float or bool.\n                Did not expect the data types in fields type",
     "output_type": "error",
     "traceback": [
      "\u001b[0;31m---------------------------------------------------------------------------\u001b[0m",
      "\u001b[0;31mValueError\u001b[0m                                Traceback (most recent call last)",
      "\u001b[0;32m<ipython-input-36-2ba3a914aad8>\u001b[0m in \u001b[0;36m<module>\u001b[0;34m()\u001b[0m\n\u001b[0;32m----> 1\u001b[0;31m \u001b[0mpred\u001b[0m \u001b[0;34m=\u001b[0m \u001b[0mmodel\u001b[0m\u001b[0;34m.\u001b[0m\u001b[0mpredict\u001b[0m\u001b[0;34m(\u001b[0m\u001b[0mtest\u001b[0m\u001b[0;34m)\u001b[0m\u001b[0;34m\u001b[0m\u001b[0;34m\u001b[0m\u001b[0m\n\u001b[0m\u001b[1;32m      2\u001b[0m \u001b[0mpred\u001b[0m \u001b[0;34m=\u001b[0m \u001b[0mpd\u001b[0m\u001b[0;34m.\u001b[0m\u001b[0mDataFrame\u001b[0m\u001b[0;34m(\u001b[0m\u001b[0mpred\u001b[0m\u001b[0;34m)\u001b[0m\u001b[0;34m\u001b[0m\u001b[0;34m\u001b[0m\u001b[0m\n",
      "\u001b[0;32m/usr/local/lib/python3.7/dist-packages/xgboost/sklearn.py\u001b[0m in \u001b[0;36mpredict\u001b[0;34m(self, data, output_margin, ntree_limit, validate_features)\u001b[0m\n\u001b[1;32m    783\u001b[0m         \u001b[0mprediction\u001b[0m \u001b[0;34m:\u001b[0m \u001b[0mnumpy\u001b[0m \u001b[0marray\u001b[0m\u001b[0;34m\u001b[0m\u001b[0;34m\u001b[0m\u001b[0m\n\u001b[1;32m    784\u001b[0m         \"\"\"\n\u001b[0;32m--> 785\u001b[0;31m         \u001b[0mtest_dmatrix\u001b[0m \u001b[0;34m=\u001b[0m \u001b[0mDMatrix\u001b[0m\u001b[0;34m(\u001b[0m\u001b[0mdata\u001b[0m\u001b[0;34m,\u001b[0m \u001b[0mmissing\u001b[0m\u001b[0;34m=\u001b[0m\u001b[0mself\u001b[0m\u001b[0;34m.\u001b[0m\u001b[0mmissing\u001b[0m\u001b[0;34m,\u001b[0m \u001b[0mnthread\u001b[0m\u001b[0;34m=\u001b[0m\u001b[0mself\u001b[0m\u001b[0;34m.\u001b[0m\u001b[0mn_jobs\u001b[0m\u001b[0;34m)\u001b[0m\u001b[0;34m\u001b[0m\u001b[0;34m\u001b[0m\u001b[0m\n\u001b[0m\u001b[1;32m    786\u001b[0m         \u001b[0;32mif\u001b[0m \u001b[0mntree_limit\u001b[0m \u001b[0;32mis\u001b[0m \u001b[0;32mNone\u001b[0m\u001b[0;34m:\u001b[0m\u001b[0;34m\u001b[0m\u001b[0;34m\u001b[0m\u001b[0m\n\u001b[1;32m    787\u001b[0m             \u001b[0mntree_limit\u001b[0m \u001b[0;34m=\u001b[0m \u001b[0mgetattr\u001b[0m\u001b[0;34m(\u001b[0m\u001b[0mself\u001b[0m\u001b[0;34m,\u001b[0m \u001b[0;34m\"best_ntree_limit\"\u001b[0m\u001b[0;34m,\u001b[0m \u001b[0;36m0\u001b[0m\u001b[0;34m)\u001b[0m\u001b[0;34m\u001b[0m\u001b[0;34m\u001b[0m\u001b[0m\n",
      "\u001b[0;32m/usr/local/lib/python3.7/dist-packages/xgboost/core.py\u001b[0m in \u001b[0;36m__init__\u001b[0;34m(self, data, label, missing, weight, silent, feature_names, feature_types, nthread)\u001b[0m\n\u001b[1;32m    378\u001b[0m         data, feature_names, feature_types = _maybe_pandas_data(data,\n\u001b[1;32m    379\u001b[0m                                                                 \u001b[0mfeature_names\u001b[0m\u001b[0;34m,\u001b[0m\u001b[0;34m\u001b[0m\u001b[0;34m\u001b[0m\u001b[0m\n\u001b[0;32m--> 380\u001b[0;31m                                                                 feature_types)\n\u001b[0m\u001b[1;32m    381\u001b[0m \u001b[0;34m\u001b[0m\u001b[0m\n\u001b[1;32m    382\u001b[0m         data, feature_names, feature_types = _maybe_dt_data(data,\n",
      "\u001b[0;32m/usr/local/lib/python3.7/dist-packages/xgboost/core.py\u001b[0m in \u001b[0;36m_maybe_pandas_data\u001b[0;34m(data, feature_names, feature_types)\u001b[0m\n\u001b[1;32m    237\u001b[0m         msg = \"\"\"DataFrame.dtypes for data must be int, float or bool.\n\u001b[1;32m    238\u001b[0m                 Did not expect the data types in fields \"\"\"\n\u001b[0;32m--> 239\u001b[0;31m         \u001b[0;32mraise\u001b[0m \u001b[0mValueError\u001b[0m\u001b[0;34m(\u001b[0m\u001b[0mmsg\u001b[0m \u001b[0;34m+\u001b[0m \u001b[0;34m', '\u001b[0m\u001b[0;34m.\u001b[0m\u001b[0mjoin\u001b[0m\u001b[0;34m(\u001b[0m\u001b[0mbad_fields\u001b[0m\u001b[0;34m)\u001b[0m\u001b[0;34m)\u001b[0m\u001b[0;34m\u001b[0m\u001b[0;34m\u001b[0m\u001b[0m\n\u001b[0m\u001b[1;32m    240\u001b[0m \u001b[0;34m\u001b[0m\u001b[0m\n\u001b[1;32m    241\u001b[0m     \u001b[0;32mif\u001b[0m \u001b[0mfeature_names\u001b[0m \u001b[0;32mis\u001b[0m \u001b[0;32mNone\u001b[0m\u001b[0;34m:\u001b[0m\u001b[0;34m\u001b[0m\u001b[0;34m\u001b[0m\u001b[0m\n",
      "\u001b[0;31mValueError\u001b[0m: DataFrame.dtypes for data must be int, float or bool.\n                Did not expect the data types in fields type"
     ]
    }
   ],
   "source": [
    "pred = model.predict(test)\n",
    "pred = pd.DataFrame(pred)"
   ]
  },
  {
   "cell_type": "code",
   "execution_count": null,
   "metadata": {},
   "outputs": [
    {
     "data": {
      "text/plain": [
       "6    1461\n",
       "5     959\n",
       "7     439\n",
       "8     214\n",
       "4     158\n",
       "Name: 0, dtype: int64"
      ]
     },
     "execution_count": 92,
     "metadata": {},
     "output_type": "execute_result"
    }
   ],
   "source": [
    "pred[0].value_counts()"
   ]
  },
  {
   "cell_type": "code",
   "execution_count": null,
   "metadata": {},
   "outputs": [
    {
     "data": {
      "text/plain": [
       "<BarContainer object of 5 artists>"
      ]
     },
     "execution_count": 93,
     "metadata": {},
     "output_type": "execute_result"
    },
    {
     "data": {
      "image/png": "[encoded data removed]",
      "text/plain": [
       "<Figure size 360x360 with 1 Axes>"
      ]
     },
     "metadata": {
      "needs_background": "light"
     },
     "output_type": "display_data"
    }
   ],
   "source": [
    "fig, ax = plt.subplots(1, 1, figsize=(5, 5))\n",
    "plt.bar(pred[0].value_counts().index, pred[0].value_counts())"
   ]
  },
  {
   "cell_type": "code",
   "execution_count": null,
   "metadata": {},
   "outputs": [
    {
     "data": {
      "text/plain": [
       "<matplotlib.axes._subplots.AxesSubplot at 0x7f322b208450>"
      ]
     },
     "execution_count": 94,
     "metadata": {},
     "output_type": "execute_result"
    },
    {
     "data": {
      "image/png": "[encoded data removed]",
      "text/plain": [
       "<Figure size 720x720 with 1 Axes>"
      ]
     },
     "metadata": {
      "needs_background": "light"
     },
     "output_type": "display_data"
    }
   ],
   "source": [
    "fig, ax = plt.subplots(1, 1, figsize=(10, 10))\n",
    "xgboost.plot_importance(model, ax)\n"
   ]
  },
  {
   "cell_type": "code",
   "execution_count": null,
   "metadata": {},
   "outputs": [],
   "source": [
    "test_ = pd.read_csv('./dataset/test.csv')\n",
    "\n",
    "submission = pd.DataFrame({\n",
    "    'id': test_.id,\n",
    "    'quality': pred[0],\n",
    "})\n",
    "\n",
    "submission.to_csv('./xgboost_submission.csv', index=False)"
   ]
  },
  {
   "cell_type": "markdown",
   "metadata": {},
   "source": []
  },
  {
   "cell_type": "code",
   "execution_count": null,
   "metadata": {},
   "outputs": [
    {
     "name": "stdout",
     "output_type": "stream",
     "text": [
      "<class 'pandas.core.frame.DataFrame'>\n",
      "Int64Index: 3230 entries, 0 to 3230\n",
      "Data columns (total 13 columns):\n",
      " #   Column                Non-Null Count  Dtype  \n",
      "---  ------                --------------  -----  \n",
      " 0   fixed acidity         3230 non-null   float64\n",
      " 1   volatile acidity      3230 non-null   float64\n",
      " 2   citric acid           3230 non-null   float64\n",
      " 3   residual sugar        3230 non-null   float64\n",
      " 4   chlorides             3230 non-null   float64\n",
      " 5   free sulfur dioxide   3230 non-null   float64\n",
      " 6   total sulfur dioxide  3230 non-null   float64\n",
      " 7   density               3230 non-null   float64\n",
      " 8   pH                    3230 non-null   float64\n",
      " 9   sulphates             3230 non-null   float64\n",
      " 10  alcohol               3230 non-null   float64\n",
      " 11  type                  3230 non-null   int64  \n",
      " 12  quality               3230 non-null   int64  \n",
      "dtypes: float64(11), int64(2)\n",
      "memory usage: 353.3 KB\n"
     ]
    }
   ],
   "source": [
    "train.info()"
   ]
  },
  {
   "cell_type": "code",
   "execution_count": null,
   "metadata": {},
   "outputs": [
    {
     "name": "stdout",
     "output_type": "stream",
     "text": [
      "<class 'pandas.core.frame.DataFrame'>\n",
      "RangeIndex: 3231 entries, 0 to 3230\n",
      "Data columns (total 12 columns):\n",
      " #   Column                Non-Null Count  Dtype  \n",
      "---  ------                --------------  -----  \n",
      " 0   fixed acidity         3231 non-null   float64\n",
      " 1   volatile acidity      3231 non-null   float64\n",
      " 2   citric acid           3231 non-null   float64\n",
      " 3   residual sugar        3231 non-null   float64\n",
      " 4   chlorides             3231 non-null   float64\n",
      " 5   free sulfur dioxide   3231 non-null   float64\n",
      " 6   total sulfur dioxide  3231 non-null   float64\n",
      " 7   density               3231 non-null   float64\n",
      " 8   pH                    3231 non-null   float64\n",
      " 9   sulphates             3231 non-null   float64\n",
      " 10  alcohol               3231 non-null   float64\n",
      " 11  type                  3231 non-null   int64  \n",
      "dtypes: float64(11), int64(1)\n",
      "memory usage: 303.0 KB\n"
     ]
    }
   ],
   "source": [
    "test.info()"
   ]
  }
 ],
 "metadata": {
  "interpreter": {
   "hash": "31f2aee4e71d21fbe5cf8b01ff0e069b9275f58929596ceb00d14d90e3e16cd6"
  },
  "kernelspec": {
   "display_name": "Python 3.7.12 64-bit",
   "language": "python",
   "name": "python3"
  },
  "language_info": {
   "codemirror_mode": {
    "name": "ipython",
    "version": 3
   },
   "file_extension": ".py",
   "mimetype": "text/x-python",
   "name": "python",
   "nbconvert_exporter": "python",
   "pygments_lexer": "ipython3",
   "version": "3.9.7"
  },
  "orig_nbformat": 4
 },
 "nbformat": 4,
 "nbformat_minor": 2
}
