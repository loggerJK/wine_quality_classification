{
 "cells": [
  {
   "cell_type": "markdown",
   "metadata": {},
   "source": [
    "# 무지성 training 해보기"
   ]
  },
  {
   "cell_type": "code",
   "execution_count": 1,
   "metadata": {},
   "outputs": [
    {
     "name": "stdout",
     "output_type": "stream",
     "text": [
      "Requirement already satisfied: pandas-profiling in /usr/local/lib/python3.7/dist-packages (3.1.0)\n",
      "Requirement already satisfied: tqdm>=4.48.2 in /usr/local/lib/python3.7/dist-packages (from pandas-profiling) (4.62.3)\n",
      "Requirement already satisfied: numpy>=1.16.0 in /usr/local/lib/python3.7/dist-packages (from pandas-profiling) (1.19.5)\n",
      "Requirement already satisfied: htmlmin>=0.1.12 in /usr/local/lib/python3.7/dist-packages (from pandas-profiling) (0.1.12)\n",
      "Requirement already satisfied: phik>=0.11.1 in /usr/local/lib/python3.7/dist-packages (from pandas-profiling) (0.12.0)\n",
      "Requirement already satisfied: missingno>=0.4.2 in /usr/local/lib/python3.7/dist-packages (from pandas-profiling) (0.5.0)\n",
      "Requirement already satisfied: joblib~=1.0.1 in /usr/local/lib/python3.7/dist-packages (from pandas-profiling) (1.0.1)\n",
      "Requirement already satisfied: PyYAML>=5.0.0 in /usr/local/lib/python3.7/dist-packages (from pandas-profiling) (6.0)\n",
      "Requirement already satisfied: markupsafe~=2.0.1 in /usr/local/lib/python3.7/dist-packages (from pandas-profiling) (2.0.1)\n",
      "Requirement already satisfied: pandas!=1.0.0,!=1.0.1,!=1.0.2,!=1.1.0,>=0.25.3 in /usr/local/lib/python3.7/dist-packages (from pandas-profiling) (1.1.5)\n",
      "Requirement already satisfied: jinja2>=2.11.1 in /usr/local/lib/python3.7/dist-packages (from pandas-profiling) (2.11.3)\n",
      "Requirement already satisfied: multimethod>=1.4 in /usr/local/lib/python3.7/dist-packages (from pandas-profiling) (1.6)\n",
      "Requirement already satisfied: visions[type_image_path]==0.7.4 in /usr/local/lib/python3.7/dist-packages (from pandas-profiling) (0.7.4)\n",
      "Requirement already satisfied: requests>=2.24.0 in /usr/local/lib/python3.7/dist-packages (from pandas-profiling) (2.26.0)\n",
      "Requirement already satisfied: pydantic>=1.8.1 in /usr/local/lib/python3.7/dist-packages (from pandas-profiling) (1.8.2)\n",
      "Requirement already satisfied: seaborn>=0.10.1 in /usr/local/lib/python3.7/dist-packages (from pandas-profiling) (0.11.2)\n",
      "Requirement already satisfied: tangled-up-in-unicode==0.1.0 in /usr/local/lib/python3.7/dist-packages (from pandas-profiling) (0.1.0)\n",
      "Requirement already satisfied: scipy>=1.4.1 in /usr/local/lib/python3.7/dist-packages (from pandas-profiling) (1.7.3)\n",
      "Requirement already satisfied: matplotlib>=3.2.0 in /usr/local/lib/python3.7/dist-packages (from pandas-profiling) (3.2.2)\n",
      "Requirement already satisfied: networkx>=2.4 in /usr/local/lib/python3.7/dist-packages (from visions[type_image_path]==0.7.4->pandas-profiling) (2.6.3)\n",
      "Requirement already satisfied: attrs>=19.3.0 in /usr/local/lib/python3.7/dist-packages (from visions[type_image_path]==0.7.4->pandas-profiling) (21.2.0)\n",
      "Requirement already satisfied: Pillow in /usr/local/lib/python3.7/dist-packages (from visions[type_image_path]==0.7.4->pandas-profiling) (7.1.2)\n",
      "Requirement already satisfied: imagehash in /usr/local/lib/python3.7/dist-packages (from visions[type_image_path]==0.7.4->pandas-profiling) (4.2.1)\n",
      "Requirement already satisfied: pyparsing!=2.0.4,!=2.1.2,!=2.1.6,>=2.0.1 in /usr/local/lib/python3.7/dist-packages (from matplotlib>=3.2.0->pandas-profiling) (3.0.6)\n",
      "Requirement already satisfied: python-dateutil>=2.1 in /usr/local/lib/python3.7/dist-packages (from matplotlib>=3.2.0->pandas-profiling) (2.8.2)\n",
      "Requirement already satisfied: kiwisolver>=1.0.1 in /usr/local/lib/python3.7/dist-packages (from matplotlib>=3.2.0->pandas-profiling) (1.3.2)\n",
      "Requirement already satisfied: cycler>=0.10 in /usr/local/lib/python3.7/dist-packages (from matplotlib>=3.2.0->pandas-profiling) (0.11.0)\n",
      "Requirement already satisfied: pytz>=2017.2 in /usr/local/lib/python3.7/dist-packages (from pandas!=1.0.0,!=1.0.1,!=1.0.2,!=1.1.0,>=0.25.3->pandas-profiling) (2018.9)\n",
      "Requirement already satisfied: typing-extensions>=3.7.4.3 in /usr/local/lib/python3.7/dist-packages (from pydantic>=1.8.1->pandas-profiling) (3.10.0.2)\n",
      "Requirement already satisfied: six>=1.5 in /usr/local/lib/python3.7/dist-packages (from python-dateutil>=2.1->matplotlib>=3.2.0->pandas-profiling) (1.15.0)\n",
      "Requirement already satisfied: charset-normalizer~=2.0.0 in /usr/local/lib/python3.7/dist-packages (from requests>=2.24.0->pandas-profiling) (2.0.8)\n",
      "Requirement already satisfied: certifi>=2017.4.17 in /usr/local/lib/python3.7/dist-packages (from requests>=2.24.0->pandas-profiling) (2021.10.8)\n",
      "Requirement already satisfied: idna<4,>=2.5 in /usr/local/lib/python3.7/dist-packages (from requests>=2.24.0->pandas-profiling) (2.10)\n",
      "Requirement already satisfied: urllib3<1.27,>=1.21.1 in /usr/local/lib/python3.7/dist-packages (from requests>=2.24.0->pandas-profiling) (1.24.3)\n",
      "Requirement already satisfied: PyWavelets in /usr/local/lib/python3.7/dist-packages (from imagehash->visions[type_image_path]==0.7.4->pandas-profiling) (1.2.0)\n"
     ]
    }
   ],
   "source": [
    "! pip install -U pandas-profiling"
   ]
  },
  {
   "cell_type": "code",
   "execution_count": 2,
   "metadata": {},
   "outputs": [],
   "source": [
    "import numpy as np\n",
    "import pandas as pd\n",
    "import seaborn as sns\n",
    "import matplotlib.pyplot as plt\n",
    "import pandas_profiling\n",
    "from xgboost import XGBClassifier\n",
    "import xgboost\n",
    "from sklearn.model_selection import StratifiedKFold\n",
    "from sklearn.metrics import accuracy_score\n",
    "from imblearn.over_sampling import ADASYN\n",
    "%matplotlib inline"
   ]
  },
  {
   "cell_type": "code",
   "execution_count": 3,
   "metadata": {},
   "outputs": [],
   "source": [
    "train = pd.read_csv('./dataset/train.csv')\n",
    "test = pd.read_csv('./dataset/test.csv')"
   ]
  },
  {
   "cell_type": "code",
   "execution_count": 4,
   "metadata": {},
   "outputs": [
    {
     "data": {
      "text/plain": [
       "['id',\n",
       " 'fixed acidity',\n",
       " 'volatile acidity',\n",
       " 'citric acid',\n",
       " 'residual sugar',\n",
       " 'chlorides',\n",
       " 'free sulfur dioxide',\n",
       " 'total sulfur dioxide',\n",
       " 'density',\n",
       " 'pH',\n",
       " 'sulphates',\n",
       " 'alcohol',\n",
       " 'type',\n",
       " 'quality']"
      ]
     },
     "execution_count": 4,
     "metadata": {},
     "output_type": "execute_result"
    }
   ],
   "source": [
    "train.columns.to_list()"
   ]
  },
  {
   "cell_type": "code",
   "execution_count": 5,
   "metadata": {},
   "outputs": [
    {
     "data": {
      "text/plain": [
       "['id',\n",
       " 'fixed acidity',\n",
       " 'volatile acidity',\n",
       " 'citric acid',\n",
       " 'residual sugar',\n",
       " 'chlorides',\n",
       " 'free sulfur dioxide',\n",
       " 'total sulfur dioxide',\n",
       " 'density',\n",
       " 'pH',\n",
       " 'sulphates',\n",
       " 'alcohol',\n",
       " 'type']"
      ]
     },
     "execution_count": 5,
     "metadata": {},
     "output_type": "execute_result"
    }
   ],
   "source": [
    "test.columns.to_list()"
   ]
  },
  {
   "cell_type": "markdown",
   "metadata": {},
   "source": [
    "## 전처리"
   ]
  },
  {
   "cell_type": "markdown",
   "metadata": {},
   "source": [
    "```type``` 변수를 categorical int(?)로 변경"
   ]
  },
  {
   "cell_type": "code",
   "execution_count": 6,
   "metadata": {},
   "outputs": [
    {
     "data": {
      "text/html": [
       "<div>\n",
       "<style scoped>\n",
       "    .dataframe tbody tr th:only-of-type {\n",
       "        vertical-align: middle;\n",
       "    }\n",
       "\n",
       "    .dataframe tbody tr th {\n",
       "        vertical-align: top;\n",
       "    }\n",
       "\n",
       "    .dataframe thead th {\n",
       "        text-align: right;\n",
       "    }\n",
       "</style>\n",
       "<table border=\"1\" class=\"dataframe\">\n",
       "  <thead>\n",
       "    <tr style=\"text-align: right;\">\n",
       "      <th></th>\n",
       "      <th>id</th>\n",
       "      <th>fixed acidity</th>\n",
       "      <th>volatile acidity</th>\n",
       "      <th>citric acid</th>\n",
       "      <th>residual sugar</th>\n",
       "      <th>chlorides</th>\n",
       "      <th>free sulfur dioxide</th>\n",
       "      <th>total sulfur dioxide</th>\n",
       "      <th>density</th>\n",
       "      <th>pH</th>\n",
       "      <th>sulphates</th>\n",
       "      <th>alcohol</th>\n",
       "      <th>type</th>\n",
       "      <th>quality</th>\n",
       "    </tr>\n",
       "  </thead>\n",
       "  <tbody>\n",
       "    <tr>\n",
       "      <th>0</th>\n",
       "      <td>1</td>\n",
       "      <td>8.0</td>\n",
       "      <td>0.18</td>\n",
       "      <td>0.37</td>\n",
       "      <td>1.30</td>\n",
       "      <td>0.040</td>\n",
       "      <td>15.0</td>\n",
       "      <td>96.0</td>\n",
       "      <td>0.99120</td>\n",
       "      <td>3.06</td>\n",
       "      <td>0.61</td>\n",
       "      <td>12.1</td>\n",
       "      <td>0</td>\n",
       "      <td>6</td>\n",
       "    </tr>\n",
       "    <tr>\n",
       "      <th>1</th>\n",
       "      <td>2</td>\n",
       "      <td>7.5</td>\n",
       "      <td>0.38</td>\n",
       "      <td>0.29</td>\n",
       "      <td>4.90</td>\n",
       "      <td>0.021</td>\n",
       "      <td>38.0</td>\n",
       "      <td>113.0</td>\n",
       "      <td>0.99026</td>\n",
       "      <td>3.08</td>\n",
       "      <td>0.48</td>\n",
       "      <td>13.0</td>\n",
       "      <td>0</td>\n",
       "      <td>7</td>\n",
       "    </tr>\n",
       "    <tr>\n",
       "      <th>2</th>\n",
       "      <td>3</td>\n",
       "      <td>6.1</td>\n",
       "      <td>0.27</td>\n",
       "      <td>0.33</td>\n",
       "      <td>2.20</td>\n",
       "      <td>0.021</td>\n",
       "      <td>26.0</td>\n",
       "      <td>117.0</td>\n",
       "      <td>0.98860</td>\n",
       "      <td>3.12</td>\n",
       "      <td>0.30</td>\n",
       "      <td>12.5</td>\n",
       "      <td>0</td>\n",
       "      <td>6</td>\n",
       "    </tr>\n",
       "    <tr>\n",
       "      <th>3</th>\n",
       "      <td>4</td>\n",
       "      <td>6.4</td>\n",
       "      <td>0.32</td>\n",
       "      <td>0.50</td>\n",
       "      <td>10.70</td>\n",
       "      <td>0.047</td>\n",
       "      <td>57.0</td>\n",
       "      <td>206.0</td>\n",
       "      <td>0.99680</td>\n",
       "      <td>3.08</td>\n",
       "      <td>0.60</td>\n",
       "      <td>9.4</td>\n",
       "      <td>0</td>\n",
       "      <td>5</td>\n",
       "    </tr>\n",
       "    <tr>\n",
       "      <th>4</th>\n",
       "      <td>5</td>\n",
       "      <td>8.4</td>\n",
       "      <td>0.37</td>\n",
       "      <td>0.43</td>\n",
       "      <td>2.30</td>\n",
       "      <td>0.063</td>\n",
       "      <td>12.0</td>\n",
       "      <td>19.0</td>\n",
       "      <td>0.99550</td>\n",
       "      <td>3.17</td>\n",
       "      <td>0.81</td>\n",
       "      <td>11.2</td>\n",
       "      <td>1</td>\n",
       "      <td>7</td>\n",
       "    </tr>\n",
       "    <tr>\n",
       "      <th>...</th>\n",
       "      <td>...</td>\n",
       "      <td>...</td>\n",
       "      <td>...</td>\n",
       "      <td>...</td>\n",
       "      <td>...</td>\n",
       "      <td>...</td>\n",
       "      <td>...</td>\n",
       "      <td>...</td>\n",
       "      <td>...</td>\n",
       "      <td>...</td>\n",
       "      <td>...</td>\n",
       "      <td>...</td>\n",
       "      <td>...</td>\n",
       "      <td>...</td>\n",
       "    </tr>\n",
       "    <tr>\n",
       "      <th>3226</th>\n",
       "      <td>3227</td>\n",
       "      <td>6.4</td>\n",
       "      <td>0.16</td>\n",
       "      <td>0.31</td>\n",
       "      <td>5.30</td>\n",
       "      <td>0.043</td>\n",
       "      <td>42.0</td>\n",
       "      <td>157.0</td>\n",
       "      <td>0.99455</td>\n",
       "      <td>3.35</td>\n",
       "      <td>0.47</td>\n",
       "      <td>10.5</td>\n",
       "      <td>0</td>\n",
       "      <td>5</td>\n",
       "    </tr>\n",
       "    <tr>\n",
       "      <th>3227</th>\n",
       "      <td>3228</td>\n",
       "      <td>6.4</td>\n",
       "      <td>0.18</td>\n",
       "      <td>0.28</td>\n",
       "      <td>17.05</td>\n",
       "      <td>0.047</td>\n",
       "      <td>53.0</td>\n",
       "      <td>139.0</td>\n",
       "      <td>0.99724</td>\n",
       "      <td>3.25</td>\n",
       "      <td>0.35</td>\n",
       "      <td>10.5</td>\n",
       "      <td>0</td>\n",
       "      <td>6</td>\n",
       "    </tr>\n",
       "    <tr>\n",
       "      <th>3228</th>\n",
       "      <td>3229</td>\n",
       "      <td>6.0</td>\n",
       "      <td>0.28</td>\n",
       "      <td>0.25</td>\n",
       "      <td>1.80</td>\n",
       "      <td>0.042</td>\n",
       "      <td>8.0</td>\n",
       "      <td>108.0</td>\n",
       "      <td>0.99290</td>\n",
       "      <td>3.08</td>\n",
       "      <td>0.55</td>\n",
       "      <td>9.0</td>\n",
       "      <td>0</td>\n",
       "      <td>5</td>\n",
       "    </tr>\n",
       "    <tr>\n",
       "      <th>3229</th>\n",
       "      <td>3230</td>\n",
       "      <td>7.7</td>\n",
       "      <td>0.28</td>\n",
       "      <td>0.29</td>\n",
       "      <td>6.90</td>\n",
       "      <td>0.041</td>\n",
       "      <td>29.0</td>\n",
       "      <td>163.0</td>\n",
       "      <td>0.99520</td>\n",
       "      <td>3.44</td>\n",
       "      <td>0.60</td>\n",
       "      <td>10.5</td>\n",
       "      <td>0</td>\n",
       "      <td>6</td>\n",
       "    </tr>\n",
       "    <tr>\n",
       "      <th>3230</th>\n",
       "      <td>3231</td>\n",
       "      <td>7.1</td>\n",
       "      <td>0.15</td>\n",
       "      <td>0.34</td>\n",
       "      <td>5.30</td>\n",
       "      <td>0.034</td>\n",
       "      <td>33.0</td>\n",
       "      <td>104.0</td>\n",
       "      <td>0.99530</td>\n",
       "      <td>3.37</td>\n",
       "      <td>0.52</td>\n",
       "      <td>9.3</td>\n",
       "      <td>0</td>\n",
       "      <td>7</td>\n",
       "    </tr>\n",
       "  </tbody>\n",
       "</table>\n",
       "<p>3231 rows × 14 columns</p>\n",
       "</div>"
      ],
      "text/plain": [
       "        id  fixed acidity  volatile acidity  ...  alcohol  type  quality\n",
       "0        1            8.0              0.18  ...     12.1     0        6\n",
       "1        2            7.5              0.38  ...     13.0     0        7\n",
       "2        3            6.1              0.27  ...     12.5     0        6\n",
       "3        4            6.4              0.32  ...      9.4     0        5\n",
       "4        5            8.4              0.37  ...     11.2     1        7\n",
       "...    ...            ...               ...  ...      ...   ...      ...\n",
       "3226  3227            6.4              0.16  ...     10.5     0        5\n",
       "3227  3228            6.4              0.18  ...     10.5     0        6\n",
       "3228  3229            6.0              0.28  ...      9.0     0        5\n",
       "3229  3230            7.7              0.28  ...     10.5     0        6\n",
       "3230  3231            7.1              0.15  ...      9.3     0        7\n",
       "\n",
       "[3231 rows x 14 columns]"
      ]
     },
     "execution_count": 6,
     "metadata": {},
     "output_type": "execute_result"
    }
   ],
   "source": [
    "train.loc[train['type']=='white', 'type'] = 0\n",
    "train.loc[train['type']=='red', 'type'] = 1\n",
    "train['type'] = train['type'].astype('int')\n",
    "test.loc[test['type']=='white', 'type'] = 0\n",
    "test.loc[test['type']=='red', 'type'] = 1\n",
    "test['type'] = test['type'].astype('int')\n",
    "train"
   ]
  },
  {
   "cell_type": "markdown",
   "metadata": {},
   "source": [
    "Feature Selection"
   ]
  },
  {
   "cell_type": "code",
   "execution_count": 7,
   "metadata": {},
   "outputs": [],
   "source": [
    "train = train[[\n",
    "    # 'id',\n",
    "    'fixed acidity',\n",
    "    'volatile acidity',\n",
    "    'citric acid',\n",
    "    'residual sugar',\n",
    "    'chlorides',\n",
    "    'free sulfur dioxide',\n",
    "    'total sulfur dioxide',\n",
    "    'density',\n",
    "    'pH',\n",
    "    'sulphates',\n",
    "    'alcohol',\n",
    "    'type',\n",
    "    'quality',\n",
    " ]]\n",
    "\n",
    "test = test[[\n",
    "    # 'id',\n",
    "    'fixed acidity',\n",
    "    'volatile acidity',\n",
    "    'citric acid',\n",
    "    'residual sugar',\n",
    "    'chlorides',\n",
    "    'free sulfur dioxide',\n",
    "    'total sulfur dioxide',\n",
    "    'density',\n",
    "    'pH',\n",
    "    'sulphates',\n",
    "    'alcohol',\n",
    "    'type',\n",
    " ]]"
   ]
  },
  {
   "cell_type": "code",
   "execution_count": 8,
   "metadata": {},
   "outputs": [],
   "source": [
    "X_train = train.drop('quality', axis = 1)\n",
    "y_train = train['quality']"
   ]
  },
  {
   "cell_type": "code",
   "execution_count": 9,
   "metadata": {},
   "outputs": [
    {
     "name": "stdout",
     "output_type": "stream",
     "text": [
      "<class 'pandas.core.frame.DataFrame'>\n",
      "RangeIndex: 3231 entries, 0 to 3230\n",
      "Data columns (total 12 columns):\n",
      " #   Column                Non-Null Count  Dtype  \n",
      "---  ------                --------------  -----  \n",
      " 0   fixed acidity         3231 non-null   float64\n",
      " 1   volatile acidity      3231 non-null   float64\n",
      " 2   citric acid           3231 non-null   float64\n",
      " 3   residual sugar        3231 non-null   float64\n",
      " 4   chlorides             3231 non-null   float64\n",
      " 5   free sulfur dioxide   3231 non-null   float64\n",
      " 6   total sulfur dioxide  3231 non-null   float64\n",
      " 7   density               3231 non-null   float64\n",
      " 8   pH                    3231 non-null   float64\n",
      " 9   sulphates             3231 non-null   float64\n",
      " 10  alcohol               3231 non-null   float64\n",
      " 11  type                  3231 non-null   int64  \n",
      "dtypes: float64(11), int64(1)\n",
      "memory usage: 303.0 KB\n"
     ]
    }
   ],
   "source": [
    "X_train.info()"
   ]
  },
  {
   "cell_type": "code",
   "execution_count": 10,
   "metadata": {},
   "outputs": [
    {
     "data": {
      "text/plain": [
       "0       6\n",
       "1       7\n",
       "2       6\n",
       "3       5\n",
       "4       7\n",
       "       ..\n",
       "3226    5\n",
       "3227    6\n",
       "3228    5\n",
       "3229    6\n",
       "3230    7\n",
       "Name: quality, Length: 3231, dtype: int64"
      ]
     },
     "execution_count": 10,
     "metadata": {},
     "output_type": "execute_result"
    }
   ],
   "source": [
    "y_train"
   ]
  },
  {
   "cell_type": "code",
   "execution_count": 11,
   "metadata": {},
   "outputs": [
    {
     "name": "stdout",
     "output_type": "stream",
     "text": [
      "<class 'pandas.core.frame.DataFrame'>\n",
      "RangeIndex: 3231 entries, 0 to 3230\n",
      "Data columns (total 12 columns):\n",
      " #   Column                Non-Null Count  Dtype  \n",
      "---  ------                --------------  -----  \n",
      " 0   fixed acidity         3231 non-null   float64\n",
      " 1   volatile acidity      3231 non-null   float64\n",
      " 2   citric acid           3231 non-null   float64\n",
      " 3   residual sugar        3231 non-null   float64\n",
      " 4   chlorides             3231 non-null   float64\n",
      " 5   free sulfur dioxide   3231 non-null   float64\n",
      " 6   total sulfur dioxide  3231 non-null   float64\n",
      " 7   density               3231 non-null   float64\n",
      " 8   pH                    3231 non-null   float64\n",
      " 9   sulphates             3231 non-null   float64\n",
      " 10  alcohol               3231 non-null   float64\n",
      " 11  type                  3231 non-null   int64  \n",
      "dtypes: float64(11), int64(1)\n",
      "memory usage: 303.0 KB\n"
     ]
    }
   ],
   "source": [
    "test.info()"
   ]
  },
  {
   "cell_type": "markdown",
   "metadata": {},
   "source": [
    "## 모델 준비"
   ]
  },
  {
   "cell_type": "code",
   "execution_count": 12,
   "metadata": {},
   "outputs": [],
   "source": [
    "model = XGBClassifier(\n",
    "    objective='multi:softprob',\n",
    ")"
   ]
  },
  {
   "cell_type": "code",
   "execution_count": 13,
   "metadata": {},
   "outputs": [
    {
     "name": "stdout",
     "output_type": "stream",
     "text": [
      "[1042 1043 1044 ... 3228 3229 3230]\n",
      "[0]\tvalidation_0-merror:0.446611\tvalidation_0-mlogloss:1.54089\n",
      "Multiple eval metrics have been passed: 'validation_0-mlogloss' will be used for early stopping.\n",
      "\n",
      "Will train until validation_0-mlogloss hasn't improved in 30 rounds.\n",
      "[1]\tvalidation_0-merror:0.443825\tvalidation_0-mlogloss:1.48284\n",
      "[2]\tvalidation_0-merror:0.444754\tvalidation_0-mlogloss:1.43173\n",
      "[3]\tvalidation_0-merror:0.443825\tvalidation_0-mlogloss:1.38713\n",
      "[4]\tvalidation_0-merror:0.444754\tvalidation_0-mlogloss:1.34783\n",
      "[5]\tvalidation_0-merror:0.43454\tvalidation_0-mlogloss:1.31287\n",
      "[6]\tvalidation_0-merror:0.433612\tvalidation_0-mlogloss:1.28209\n",
      "[7]\tvalidation_0-merror:0.433612\tvalidation_0-mlogloss:1.25428\n",
      "[8]\tvalidation_0-merror:0.431755\tvalidation_0-mlogloss:1.22948\n",
      "[9]\tvalidation_0-merror:0.421541\tvalidation_0-mlogloss:1.20646\n",
      "[10]\tvalidation_0-merror:0.423398\tvalidation_0-mlogloss:1.18552\n",
      "[11]\tvalidation_0-merror:0.420613\tvalidation_0-mlogloss:1.1663\n",
      "[12]\tvalidation_0-merror:0.418756\tvalidation_0-mlogloss:1.14935\n",
      "[13]\tvalidation_0-merror:0.423398\tvalidation_0-mlogloss:1.13331\n",
      "[14]\tvalidation_0-merror:0.421541\tvalidation_0-mlogloss:1.11901\n",
      "[15]\tvalidation_0-merror:0.419684\tvalidation_0-mlogloss:1.10563\n",
      "[16]\tvalidation_0-merror:0.418756\tvalidation_0-mlogloss:1.0933\n",
      "[17]\tvalidation_0-merror:0.41597\tvalidation_0-mlogloss:1.08255\n",
      "[18]\tvalidation_0-merror:0.414113\tvalidation_0-mlogloss:1.07229\n",
      "[19]\tvalidation_0-merror:0.412256\tvalidation_0-mlogloss:1.0635\n",
      "[20]\tvalidation_0-merror:0.412256\tvalidation_0-mlogloss:1.0549\n",
      "[21]\tvalidation_0-merror:0.41597\tvalidation_0-mlogloss:1.04611\n",
      "[22]\tvalidation_0-merror:0.41597\tvalidation_0-mlogloss:1.03859\n",
      "[23]\tvalidation_0-merror:0.411328\tvalidation_0-mlogloss:1.03117\n",
      "[24]\tvalidation_0-merror:0.410399\tvalidation_0-mlogloss:1.0242\n",
      "[25]\tvalidation_0-merror:0.411328\tvalidation_0-mlogloss:1.01679\n",
      "[26]\tvalidation_0-merror:0.411328\tvalidation_0-mlogloss:1.0108\n",
      "[27]\tvalidation_0-merror:0.410399\tvalidation_0-mlogloss:1.00476\n",
      "[28]\tvalidation_0-merror:0.405757\tvalidation_0-mlogloss:0.999266\n",
      "[29]\tvalidation_0-merror:0.404828\tvalidation_0-mlogloss:0.993843\n",
      "[30]\tvalidation_0-merror:0.404828\tvalidation_0-mlogloss:0.988949\n",
      "[31]\tvalidation_0-merror:0.404828\tvalidation_0-mlogloss:0.983755\n",
      "[32]\tvalidation_0-merror:0.402043\tvalidation_0-mlogloss:0.978846\n",
      "[33]\tvalidation_0-merror:0.402043\tvalidation_0-mlogloss:0.973673\n",
      "[34]\tvalidation_0-merror:0.398329\tvalidation_0-mlogloss:0.968382\n",
      "[35]\tvalidation_0-merror:0.394615\tvalidation_0-mlogloss:0.964302\n",
      "[36]\tvalidation_0-merror:0.394615\tvalidation_0-mlogloss:0.960083\n",
      "[37]\tvalidation_0-merror:0.394615\tvalidation_0-mlogloss:0.956004\n",
      "[38]\tvalidation_0-merror:0.396472\tvalidation_0-mlogloss:0.95285\n",
      "[39]\tvalidation_0-merror:0.395543\tvalidation_0-mlogloss:0.948874\n",
      "[40]\tvalidation_0-merror:0.390901\tvalidation_0-mlogloss:0.945482\n",
      "[41]\tvalidation_0-merror:0.392758\tvalidation_0-mlogloss:0.942467\n",
      "[42]\tvalidation_0-merror:0.389044\tvalidation_0-mlogloss:0.939179\n",
      "[43]\tvalidation_0-merror:0.388115\tvalidation_0-mlogloss:0.936088\n",
      "[44]\tvalidation_0-merror:0.38533\tvalidation_0-mlogloss:0.932671\n",
      "[45]\tvalidation_0-merror:0.386258\tvalidation_0-mlogloss:0.929634\n",
      "[46]\tvalidation_0-merror:0.382544\tvalidation_0-mlogloss:0.926247\n",
      "[47]\tvalidation_0-merror:0.379759\tvalidation_0-mlogloss:0.923291\n",
      "[48]\tvalidation_0-merror:0.379759\tvalidation_0-mlogloss:0.920795\n",
      "[49]\tvalidation_0-merror:0.376045\tvalidation_0-mlogloss:0.917699\n",
      "[50]\tvalidation_0-merror:0.375116\tvalidation_0-mlogloss:0.914669\n",
      "[51]\tvalidation_0-merror:0.375116\tvalidation_0-mlogloss:0.912162\n",
      "[52]\tvalidation_0-merror:0.376045\tvalidation_0-mlogloss:0.909744\n",
      "[53]\tvalidation_0-merror:0.372331\tvalidation_0-mlogloss:0.906406\n",
      "[54]\tvalidation_0-merror:0.372331\tvalidation_0-mlogloss:0.903456\n",
      "[55]\tvalidation_0-merror:0.372331\tvalidation_0-mlogloss:0.901112\n",
      "[56]\tvalidation_0-merror:0.372331\tvalidation_0-mlogloss:0.89928\n",
      "[57]\tvalidation_0-merror:0.369545\tvalidation_0-mlogloss:0.89685\n",
      "[58]\tvalidation_0-merror:0.367688\tvalidation_0-mlogloss:0.894801\n",
      "[59]\tvalidation_0-merror:0.363974\tvalidation_0-mlogloss:0.892583\n",
      "[60]\tvalidation_0-merror:0.362117\tvalidation_0-mlogloss:0.890203\n",
      "[61]\tvalidation_0-merror:0.36026\tvalidation_0-mlogloss:0.888016\n",
      "[62]\tvalidation_0-merror:0.362117\tvalidation_0-mlogloss:0.885733\n",
      "[63]\tvalidation_0-merror:0.358403\tvalidation_0-mlogloss:0.883803\n",
      "[64]\tvalidation_0-merror:0.358403\tvalidation_0-mlogloss:0.881261\n",
      "[65]\tvalidation_0-merror:0.358403\tvalidation_0-mlogloss:0.87948\n",
      "[66]\tvalidation_0-merror:0.359331\tvalidation_0-mlogloss:0.877702\n",
      "[67]\tvalidation_0-merror:0.356546\tvalidation_0-mlogloss:0.875074\n",
      "[68]\tvalidation_0-merror:0.35376\tvalidation_0-mlogloss:0.873209\n",
      "[69]\tvalidation_0-merror:0.350046\tvalidation_0-mlogloss:0.871385\n",
      "[70]\tvalidation_0-merror:0.350975\tvalidation_0-mlogloss:0.869131\n",
      "[71]\tvalidation_0-merror:0.355617\tvalidation_0-mlogloss:0.867535\n",
      "[72]\tvalidation_0-merror:0.35376\tvalidation_0-mlogloss:0.86583\n",
      "[73]\tvalidation_0-merror:0.352832\tvalidation_0-mlogloss:0.863564\n",
      "[74]\tvalidation_0-merror:0.350975\tvalidation_0-mlogloss:0.861424\n",
      "[75]\tvalidation_0-merror:0.350975\tvalidation_0-mlogloss:0.859578\n",
      "[76]\tvalidation_0-merror:0.349118\tvalidation_0-mlogloss:0.857983\n",
      "[77]\tvalidation_0-merror:0.349118\tvalidation_0-mlogloss:0.85598\n",
      "[78]\tvalidation_0-merror:0.349118\tvalidation_0-mlogloss:0.854259\n",
      "[79]\tvalidation_0-merror:0.347261\tvalidation_0-mlogloss:0.852519\n",
      "[80]\tvalidation_0-merror:0.346332\tvalidation_0-mlogloss:0.850267\n",
      "[81]\tvalidation_0-merror:0.347261\tvalidation_0-mlogloss:0.848503\n",
      "[82]\tvalidation_0-merror:0.344475\tvalidation_0-mlogloss:0.846541\n",
      "[83]\tvalidation_0-merror:0.345404\tvalidation_0-mlogloss:0.844811\n",
      "[84]\tvalidation_0-merror:0.344475\tvalidation_0-mlogloss:0.842986\n",
      "[85]\tvalidation_0-merror:0.344475\tvalidation_0-mlogloss:0.841937\n",
      "[86]\tvalidation_0-merror:0.343547\tvalidation_0-mlogloss:0.840404\n",
      "[87]\tvalidation_0-merror:0.342618\tvalidation_0-mlogloss:0.838538\n",
      "[88]\tvalidation_0-merror:0.343547\tvalidation_0-mlogloss:0.836824\n",
      "[89]\tvalidation_0-merror:0.34169\tvalidation_0-mlogloss:0.834848\n",
      "[90]\tvalidation_0-merror:0.34169\tvalidation_0-mlogloss:0.832758\n",
      "[91]\tvalidation_0-merror:0.340761\tvalidation_0-mlogloss:0.831102\n",
      "[92]\tvalidation_0-merror:0.342618\tvalidation_0-mlogloss:0.829692\n",
      "[93]\tvalidation_0-merror:0.342618\tvalidation_0-mlogloss:0.827557\n",
      "[94]\tvalidation_0-merror:0.339833\tvalidation_0-mlogloss:0.826277\n",
      "[95]\tvalidation_0-merror:0.339833\tvalidation_0-mlogloss:0.824986\n",
      "[96]\tvalidation_0-merror:0.338904\tvalidation_0-mlogloss:0.823377\n",
      "[97]\tvalidation_0-merror:0.337976\tvalidation_0-mlogloss:0.822192\n",
      "[98]\tvalidation_0-merror:0.337976\tvalidation_0-mlogloss:0.820684\n",
      "[99]\tvalidation_0-merror:0.336119\tvalidation_0-mlogloss:0.818771\n",
      "[   0    1    2 ... 3228 3229 3230]\n",
      "[0]\tvalidation_0-merror:0.430826\tvalidation_0-mlogloss:1.53978\n",
      "Multiple eval metrics have been passed: 'validation_0-mlogloss' will be used for early stopping.\n",
      "\n",
      "Will train until validation_0-mlogloss hasn't improved in 30 rounds.\n",
      "[1]\tvalidation_0-merror:0.430826\tvalidation_0-mlogloss:1.48039\n",
      "[2]\tvalidation_0-merror:0.429898\tvalidation_0-mlogloss:1.42788\n",
      "[3]\tvalidation_0-merror:0.428969\tvalidation_0-mlogloss:1.38208\n",
      "[4]\tvalidation_0-merror:0.430826\tvalidation_0-mlogloss:1.34228\n",
      "[5]\tvalidation_0-merror:0.42247\tvalidation_0-mlogloss:1.30656\n",
      "[6]\tvalidation_0-merror:0.427112\tvalidation_0-mlogloss:1.27402\n",
      "[7]\tvalidation_0-merror:0.42247\tvalidation_0-mlogloss:1.24511\n",
      "[8]\tvalidation_0-merror:0.423398\tvalidation_0-mlogloss:1.21935\n",
      "[9]\tvalidation_0-merror:0.412256\tvalidation_0-mlogloss:1.19533\n",
      "[10]\tvalidation_0-merror:0.410399\tvalidation_0-mlogloss:1.17363\n",
      "[11]\tvalidation_0-merror:0.407614\tvalidation_0-mlogloss:1.15425\n",
      "[12]\tvalidation_0-merror:0.406685\tvalidation_0-mlogloss:1.13604\n",
      "[13]\tvalidation_0-merror:0.407614\tvalidation_0-mlogloss:1.11947\n",
      "[14]\tvalidation_0-merror:0.4039\tvalidation_0-mlogloss:1.1035\n",
      "[15]\tvalidation_0-merror:0.4039\tvalidation_0-mlogloss:1.08943\n",
      "[16]\tvalidation_0-merror:0.399257\tvalidation_0-mlogloss:1.07669\n",
      "[17]\tvalidation_0-merror:0.4039\tvalidation_0-mlogloss:1.06482\n",
      "[18]\tvalidation_0-merror:0.404828\tvalidation_0-mlogloss:1.05417\n",
      "[19]\tvalidation_0-merror:0.402043\tvalidation_0-mlogloss:1.04397\n",
      "[20]\tvalidation_0-merror:0.402971\tvalidation_0-mlogloss:1.03449\n",
      "[21]\tvalidation_0-merror:0.402043\tvalidation_0-mlogloss:1.02636\n",
      "[22]\tvalidation_0-merror:0.400186\tvalidation_0-mlogloss:1.01714\n",
      "[23]\tvalidation_0-merror:0.395543\tvalidation_0-mlogloss:1.00953\n",
      "[24]\tvalidation_0-merror:0.393686\tvalidation_0-mlogloss:1.00188\n",
      "[25]\tvalidation_0-merror:0.390901\tvalidation_0-mlogloss:0.993892\n",
      "[26]\tvalidation_0-merror:0.392758\tvalidation_0-mlogloss:0.987096\n",
      "[27]\tvalidation_0-merror:0.389972\tvalidation_0-mlogloss:0.980701\n",
      "[28]\tvalidation_0-merror:0.38533\tvalidation_0-mlogloss:0.974225\n",
      "[29]\tvalidation_0-merror:0.38533\tvalidation_0-mlogloss:0.969141\n",
      "[30]\tvalidation_0-merror:0.383473\tvalidation_0-mlogloss:0.96394\n",
      "[31]\tvalidation_0-merror:0.38533\tvalidation_0-mlogloss:0.958268\n",
      "[32]\tvalidation_0-merror:0.380687\tvalidation_0-mlogloss:0.95279\n",
      "[33]\tvalidation_0-merror:0.381616\tvalidation_0-mlogloss:0.948334\n",
      "[34]\tvalidation_0-merror:0.381616\tvalidation_0-mlogloss:0.943162\n",
      "[35]\tvalidation_0-merror:0.381616\tvalidation_0-mlogloss:0.937973\n",
      "[36]\tvalidation_0-merror:0.382544\tvalidation_0-mlogloss:0.933938\n",
      "[37]\tvalidation_0-merror:0.380687\tvalidation_0-mlogloss:0.928855\n",
      "[38]\tvalidation_0-merror:0.37883\tvalidation_0-mlogloss:0.924838\n",
      "[39]\tvalidation_0-merror:0.376045\tvalidation_0-mlogloss:0.920736\n",
      "[40]\tvalidation_0-merror:0.372331\tvalidation_0-mlogloss:0.91754\n",
      "[41]\tvalidation_0-merror:0.373259\tvalidation_0-mlogloss:0.914129\n",
      "[42]\tvalidation_0-merror:0.373259\tvalidation_0-mlogloss:0.910744\n",
      "[43]\tvalidation_0-merror:0.372331\tvalidation_0-mlogloss:0.906887\n",
      "[44]\tvalidation_0-merror:0.371402\tvalidation_0-mlogloss:0.903644\n",
      "[45]\tvalidation_0-merror:0.373259\tvalidation_0-mlogloss:0.900664\n",
      "[46]\tvalidation_0-merror:0.370474\tvalidation_0-mlogloss:0.897452\n",
      "[47]\tvalidation_0-merror:0.36676\tvalidation_0-mlogloss:0.894287\n",
      "[48]\tvalidation_0-merror:0.365831\tvalidation_0-mlogloss:0.89125\n",
      "[49]\tvalidation_0-merror:0.361189\tvalidation_0-mlogloss:0.888342\n",
      "[50]\tvalidation_0-merror:0.357474\tvalidation_0-mlogloss:0.885027\n",
      "[51]\tvalidation_0-merror:0.36026\tvalidation_0-mlogloss:0.882359\n",
      "[52]\tvalidation_0-merror:0.36026\tvalidation_0-mlogloss:0.880078\n",
      "[53]\tvalidation_0-merror:0.358403\tvalidation_0-mlogloss:0.877288\n",
      "[54]\tvalidation_0-merror:0.36026\tvalidation_0-mlogloss:0.874927\n",
      "[55]\tvalidation_0-merror:0.359331\tvalidation_0-mlogloss:0.872905\n",
      "[56]\tvalidation_0-merror:0.356546\tvalidation_0-mlogloss:0.870246\n",
      "[57]\tvalidation_0-merror:0.355617\tvalidation_0-mlogloss:0.867629\n",
      "[58]\tvalidation_0-merror:0.350975\tvalidation_0-mlogloss:0.865109\n",
      "[59]\tvalidation_0-merror:0.350975\tvalidation_0-mlogloss:0.862843\n",
      "[60]\tvalidation_0-merror:0.350975\tvalidation_0-mlogloss:0.860433\n",
      "[61]\tvalidation_0-merror:0.349118\tvalidation_0-mlogloss:0.857876\n",
      "[62]\tvalidation_0-merror:0.349118\tvalidation_0-mlogloss:0.85605\n",
      "[63]\tvalidation_0-merror:0.348189\tvalidation_0-mlogloss:0.853882\n",
      "[64]\tvalidation_0-merror:0.347261\tvalidation_0-mlogloss:0.851861\n",
      "[65]\tvalidation_0-merror:0.346332\tvalidation_0-mlogloss:0.849826\n",
      "[66]\tvalidation_0-merror:0.344475\tvalidation_0-mlogloss:0.847831\n",
      "[67]\tvalidation_0-merror:0.34169\tvalidation_0-mlogloss:0.845409\n",
      "[68]\tvalidation_0-merror:0.34169\tvalidation_0-mlogloss:0.843897\n",
      "[69]\tvalidation_0-merror:0.34169\tvalidation_0-mlogloss:0.842145\n",
      "[70]\tvalidation_0-merror:0.339833\tvalidation_0-mlogloss:0.839485\n",
      "[71]\tvalidation_0-merror:0.338904\tvalidation_0-mlogloss:0.837829\n",
      "[72]\tvalidation_0-merror:0.340761\tvalidation_0-mlogloss:0.836249\n",
      "[73]\tvalidation_0-merror:0.338904\tvalidation_0-mlogloss:0.834205\n",
      "[74]\tvalidation_0-merror:0.338904\tvalidation_0-mlogloss:0.832952\n",
      "[75]\tvalidation_0-merror:0.338904\tvalidation_0-mlogloss:0.830834\n",
      "[76]\tvalidation_0-merror:0.337976\tvalidation_0-mlogloss:0.828751\n",
      "[77]\tvalidation_0-merror:0.337047\tvalidation_0-mlogloss:0.827302\n",
      "[78]\tvalidation_0-merror:0.337976\tvalidation_0-mlogloss:0.825783\n",
      "[79]\tvalidation_0-merror:0.337976\tvalidation_0-mlogloss:0.82393\n",
      "[80]\tvalidation_0-merror:0.336119\tvalidation_0-mlogloss:0.821826\n",
      "[81]\tvalidation_0-merror:0.337047\tvalidation_0-mlogloss:0.82066\n",
      "[82]\tvalidation_0-merror:0.336119\tvalidation_0-mlogloss:0.818549\n",
      "[83]\tvalidation_0-merror:0.33519\tvalidation_0-mlogloss:0.81677\n",
      "[84]\tvalidation_0-merror:0.336119\tvalidation_0-mlogloss:0.815049\n",
      "[85]\tvalidation_0-merror:0.33519\tvalidation_0-mlogloss:0.813773\n",
      "[86]\tvalidation_0-merror:0.33519\tvalidation_0-mlogloss:0.81225\n",
      "[87]\tvalidation_0-merror:0.334262\tvalidation_0-mlogloss:0.810325\n",
      "[88]\tvalidation_0-merror:0.331476\tvalidation_0-mlogloss:0.808958\n",
      "[89]\tvalidation_0-merror:0.327762\tvalidation_0-mlogloss:0.807278\n",
      "[90]\tvalidation_0-merror:0.324048\tvalidation_0-mlogloss:0.805538\n",
      "[91]\tvalidation_0-merror:0.326834\tvalidation_0-mlogloss:0.803863\n",
      "[92]\tvalidation_0-merror:0.324977\tvalidation_0-mlogloss:0.802344\n",
      "[93]\tvalidation_0-merror:0.320334\tvalidation_0-mlogloss:0.800503\n",
      "[94]\tvalidation_0-merror:0.318477\tvalidation_0-mlogloss:0.799353\n",
      "[95]\tvalidation_0-merror:0.318477\tvalidation_0-mlogloss:0.797747\n",
      "[96]\tvalidation_0-merror:0.317549\tvalidation_0-mlogloss:0.796347\n",
      "[97]\tvalidation_0-merror:0.318477\tvalidation_0-mlogloss:0.795545\n",
      "[98]\tvalidation_0-merror:0.317549\tvalidation_0-mlogloss:0.794176\n",
      "[99]\tvalidation_0-merror:0.31662\tvalidation_0-mlogloss:0.792495\n",
      "[   0    1    2 ... 2339 2340 2358]\n",
      "[0]\tvalidation_0-merror:0.444754\tvalidation_0-mlogloss:1.54192\n",
      "Multiple eval metrics have been passed: 'validation_0-mlogloss' will be used for early stopping.\n",
      "\n",
      "Will train until validation_0-mlogloss hasn't improved in 30 rounds.\n",
      "[1]\tvalidation_0-merror:0.444754\tvalidation_0-mlogloss:1.48426\n",
      "[2]\tvalidation_0-merror:0.435469\tvalidation_0-mlogloss:1.43459\n",
      "[3]\tvalidation_0-merror:0.435469\tvalidation_0-mlogloss:1.3912\n",
      "[4]\tvalidation_0-merror:0.435469\tvalidation_0-mlogloss:1.35339\n",
      "[5]\tvalidation_0-merror:0.433612\tvalidation_0-mlogloss:1.32001\n",
      "[6]\tvalidation_0-merror:0.433612\tvalidation_0-mlogloss:1.28995\n",
      "[7]\tvalidation_0-merror:0.430826\tvalidation_0-mlogloss:1.26297\n",
      "[8]\tvalidation_0-merror:0.428969\tvalidation_0-mlogloss:1.23767\n",
      "[9]\tvalidation_0-merror:0.421541\tvalidation_0-mlogloss:1.21571\n",
      "[10]\tvalidation_0-merror:0.426184\tvalidation_0-mlogloss:1.19538\n",
      "[11]\tvalidation_0-merror:0.421541\tvalidation_0-mlogloss:1.17657\n",
      "[12]\tvalidation_0-merror:0.418756\tvalidation_0-mlogloss:1.15981\n",
      "[13]\tvalidation_0-merror:0.415042\tvalidation_0-mlogloss:1.14469\n",
      "[14]\tvalidation_0-merror:0.409471\tvalidation_0-mlogloss:1.13029\n",
      "[15]\tvalidation_0-merror:0.413185\tvalidation_0-mlogloss:1.11662\n",
      "[16]\tvalidation_0-merror:0.413185\tvalidation_0-mlogloss:1.10518\n",
      "[17]\tvalidation_0-merror:0.412256\tvalidation_0-mlogloss:1.09421\n",
      "[18]\tvalidation_0-merror:0.405757\tvalidation_0-mlogloss:1.08431\n",
      "[19]\tvalidation_0-merror:0.402971\tvalidation_0-mlogloss:1.07489\n",
      "[20]\tvalidation_0-merror:0.402971\tvalidation_0-mlogloss:1.06629\n",
      "[21]\tvalidation_0-merror:0.400186\tvalidation_0-mlogloss:1.05861\n",
      "[22]\tvalidation_0-merror:0.401114\tvalidation_0-mlogloss:1.05078\n",
      "[23]\tvalidation_0-merror:0.402971\tvalidation_0-mlogloss:1.04342\n",
      "[24]\tvalidation_0-merror:0.401114\tvalidation_0-mlogloss:1.0363\n",
      "[25]\tvalidation_0-merror:0.401114\tvalidation_0-mlogloss:1.02867\n",
      "[26]\tvalidation_0-merror:0.399257\tvalidation_0-mlogloss:1.02281\n",
      "[27]\tvalidation_0-merror:0.396472\tvalidation_0-mlogloss:1.01666\n",
      "[28]\tvalidation_0-merror:0.3974\tvalidation_0-mlogloss:1.01031\n",
      "[29]\tvalidation_0-merror:0.395543\tvalidation_0-mlogloss:1.00493\n",
      "[30]\tvalidation_0-merror:0.393686\tvalidation_0-mlogloss:0.999649\n",
      "[31]\tvalidation_0-merror:0.390901\tvalidation_0-mlogloss:0.99394\n",
      "[32]\tvalidation_0-merror:0.392758\tvalidation_0-mlogloss:0.988876\n",
      "[33]\tvalidation_0-merror:0.387187\tvalidation_0-mlogloss:0.984029\n",
      "[34]\tvalidation_0-merror:0.389044\tvalidation_0-mlogloss:0.979017\n",
      "[35]\tvalidation_0-merror:0.387187\tvalidation_0-mlogloss:0.974164\n",
      "[36]\tvalidation_0-merror:0.387187\tvalidation_0-mlogloss:0.969905\n",
      "[37]\tvalidation_0-merror:0.382544\tvalidation_0-mlogloss:0.966054\n",
      "[38]\tvalidation_0-merror:0.381616\tvalidation_0-mlogloss:0.961896\n",
      "[39]\tvalidation_0-merror:0.381616\tvalidation_0-mlogloss:0.957307\n",
      "[40]\tvalidation_0-merror:0.380687\tvalidation_0-mlogloss:0.954174\n",
      "[41]\tvalidation_0-merror:0.379759\tvalidation_0-mlogloss:0.950531\n",
      "[42]\tvalidation_0-merror:0.376973\tvalidation_0-mlogloss:0.946981\n",
      "[43]\tvalidation_0-merror:0.37883\tvalidation_0-mlogloss:0.943271\n",
      "[44]\tvalidation_0-merror:0.375116\tvalidation_0-mlogloss:0.940209\n",
      "[45]\tvalidation_0-merror:0.371402\tvalidation_0-mlogloss:0.936921\n",
      "[46]\tvalidation_0-merror:0.373259\tvalidation_0-mlogloss:0.933685\n",
      "[47]\tvalidation_0-merror:0.373259\tvalidation_0-mlogloss:0.930806\n",
      "[48]\tvalidation_0-merror:0.372331\tvalidation_0-mlogloss:0.928108\n",
      "[49]\tvalidation_0-merror:0.369545\tvalidation_0-mlogloss:0.924966\n",
      "[50]\tvalidation_0-merror:0.372331\tvalidation_0-mlogloss:0.922015\n",
      "[51]\tvalidation_0-merror:0.371402\tvalidation_0-mlogloss:0.919643\n",
      "[52]\tvalidation_0-merror:0.369545\tvalidation_0-mlogloss:0.917022\n",
      "[53]\tvalidation_0-merror:0.365831\tvalidation_0-mlogloss:0.914017\n",
      "[54]\tvalidation_0-merror:0.368617\tvalidation_0-mlogloss:0.911373\n",
      "[55]\tvalidation_0-merror:0.364902\tvalidation_0-mlogloss:0.909215\n",
      "[56]\tvalidation_0-merror:0.367688\tvalidation_0-mlogloss:0.906889\n",
      "[57]\tvalidation_0-merror:0.364902\tvalidation_0-mlogloss:0.904979\n",
      "[58]\tvalidation_0-merror:0.36676\tvalidation_0-mlogloss:0.902654\n",
      "[59]\tvalidation_0-merror:0.363974\tvalidation_0-mlogloss:0.900288\n",
      "[60]\tvalidation_0-merror:0.363974\tvalidation_0-mlogloss:0.897846\n",
      "[61]\tvalidation_0-merror:0.36026\tvalidation_0-mlogloss:0.894802\n",
      "[62]\tvalidation_0-merror:0.36026\tvalidation_0-mlogloss:0.892978\n",
      "[63]\tvalidation_0-merror:0.36026\tvalidation_0-mlogloss:0.891096\n",
      "[64]\tvalidation_0-merror:0.36026\tvalidation_0-mlogloss:0.889387\n",
      "[65]\tvalidation_0-merror:0.36026\tvalidation_0-mlogloss:0.887725\n",
      "[66]\tvalidation_0-merror:0.361189\tvalidation_0-mlogloss:0.886028\n",
      "[67]\tvalidation_0-merror:0.359331\tvalidation_0-mlogloss:0.883145\n",
      "[68]\tvalidation_0-merror:0.359331\tvalidation_0-mlogloss:0.881586\n",
      "[69]\tvalidation_0-merror:0.358403\tvalidation_0-mlogloss:0.879957\n",
      "[70]\tvalidation_0-merror:0.359331\tvalidation_0-mlogloss:0.877594\n",
      "[71]\tvalidation_0-merror:0.36026\tvalidation_0-mlogloss:0.875829\n",
      "[72]\tvalidation_0-merror:0.358403\tvalidation_0-mlogloss:0.874059\n",
      "[73]\tvalidation_0-merror:0.358403\tvalidation_0-mlogloss:0.871861\n",
      "[74]\tvalidation_0-merror:0.356546\tvalidation_0-mlogloss:0.870271\n",
      "[75]\tvalidation_0-merror:0.357474\tvalidation_0-mlogloss:0.868848\n",
      "[76]\tvalidation_0-merror:0.355617\tvalidation_0-mlogloss:0.867318\n",
      "[77]\tvalidation_0-merror:0.354689\tvalidation_0-mlogloss:0.865576\n",
      "[78]\tvalidation_0-merror:0.351903\tvalidation_0-mlogloss:0.864341\n",
      "[79]\tvalidation_0-merror:0.351903\tvalidation_0-mlogloss:0.862589\n",
      "[80]\tvalidation_0-merror:0.350975\tvalidation_0-mlogloss:0.860306\n",
      "[81]\tvalidation_0-merror:0.351903\tvalidation_0-mlogloss:0.858764\n",
      "[82]\tvalidation_0-merror:0.348189\tvalidation_0-mlogloss:0.856891\n",
      "[83]\tvalidation_0-merror:0.347261\tvalidation_0-mlogloss:0.855176\n",
      "[84]\tvalidation_0-merror:0.344475\tvalidation_0-mlogloss:0.853411\n",
      "[85]\tvalidation_0-merror:0.343547\tvalidation_0-mlogloss:0.852284\n",
      "[86]\tvalidation_0-merror:0.34169\tvalidation_0-mlogloss:0.850931\n",
      "[87]\tvalidation_0-merror:0.340761\tvalidation_0-mlogloss:0.848952\n",
      "[88]\tvalidation_0-merror:0.342618\tvalidation_0-mlogloss:0.847277\n",
      "[89]\tvalidation_0-merror:0.338904\tvalidation_0-mlogloss:0.845413\n",
      "[90]\tvalidation_0-merror:0.340761\tvalidation_0-mlogloss:0.84375\n",
      "[91]\tvalidation_0-merror:0.339833\tvalidation_0-mlogloss:0.842099\n",
      "[92]\tvalidation_0-merror:0.337047\tvalidation_0-mlogloss:0.840497\n",
      "[93]\tvalidation_0-merror:0.337047\tvalidation_0-mlogloss:0.83868\n",
      "[94]\tvalidation_0-merror:0.334262\tvalidation_0-mlogloss:0.837492\n",
      "[95]\tvalidation_0-merror:0.333333\tvalidation_0-mlogloss:0.83595\n",
      "[96]\tvalidation_0-merror:0.333333\tvalidation_0-mlogloss:0.834723\n",
      "[97]\tvalidation_0-merror:0.334262\tvalidation_0-mlogloss:0.83383\n",
      "[98]\tvalidation_0-merror:0.333333\tvalidation_0-mlogloss:0.832446\n",
      "[99]\tvalidation_0-merror:0.328691\tvalidation_0-mlogloss:0.830526\n",
      "loss_list = [0.818770606136477, 0.7924953373071211, 0.8305256435355326]\n"
     ]
    }
   ],
   "source": [
    "'''\n",
    "merror : #(wrong cases) / # (all cases), 틀린 비율, accuracy의 반대라고 생각하면된다\n",
    "mlogloss : categorical cross entropy loss\n",
    "'''\n",
    "from sklearn.metrics import log_loss\n",
    "\n",
    "loss_list = []\n",
    "skf = StratifiedKFold(n_splits = 3)\n",
    "for train_index, val_index in skf.split(X_train, y_train):\n",
    "    print(train_index)\n",
    "    train_x = X_train.iloc[train_index]\n",
    "    train_y = y_train.iloc[train_index]\n",
    "    val_x = X_train.iloc[val_index]\n",
    "    val_y= y_train.iloc[val_index]\n",
    "    model.fit(X=X_train,\n",
    "              y=y_train,\n",
    "              eval_set=[(val_x, val_y)],\n",
    "              eval_metric=['merror','mlogloss'],\n",
    "              early_stopping_rounds=30)\n",
    "    loss = log_loss(y_true = val_y, y_pred = model.predict_proba(val_x))\n",
    "    loss_list.append(loss)\n",
    "print(f'loss_list = {loss_list}')"
   ]
  },
  {
   "cell_type": "code",
   "execution_count": 14,
   "metadata": {},
   "outputs": [],
   "source": [
    "pred = model.predict(test)\n",
    "pred_prob = model.predict_proba(test)"
   ]
  },
  {
   "cell_type": "code",
   "execution_count": 15,
   "metadata": {},
   "outputs": [
    {
     "ename": "AttributeError",
     "evalue": "'DataFrame' object has no attribute 'id'",
     "output_type": "error",
     "traceback": [
      "\u001b[0;31m---------------------------------------------------------------------------\u001b[0m",
      "\u001b[0;31mAttributeError\u001b[0m                            Traceback (most recent call last)",
      "\u001b[0;32m<ipython-input-15-df8344fd05b5>\u001b[0m in \u001b[0;36m<module>\u001b[0;34m()\u001b[0m\n\u001b[1;32m      1\u001b[0m submission = pd.DataFrame({\n\u001b[0;32m----> 2\u001b[0;31m     \u001b[0;34m\"id\"\u001b[0m \u001b[0;34m:\u001b[0m \u001b[0mtest\u001b[0m\u001b[0;34m.\u001b[0m\u001b[0mid\u001b[0m\u001b[0;34m,\u001b[0m\u001b[0;34m\u001b[0m\u001b[0;34m\u001b[0m\u001b[0m\n\u001b[0m\u001b[1;32m      3\u001b[0m     \u001b[0;34m\"quality\"\u001b[0m\u001b[0;34m:\u001b[0m\u001b[0mpred\u001b[0m\u001b[0;34m,\u001b[0m\u001b[0;34m\u001b[0m\u001b[0;34m\u001b[0m\u001b[0m\n\u001b[1;32m      4\u001b[0m })\n\u001b[1;32m      5\u001b[0m \u001b[0msubmission\u001b[0m\u001b[0;34m.\u001b[0m\u001b[0mto_csv\u001b[0m\u001b[0;34m(\u001b[0m\u001b[0;34m'xgboost_submission.csv'\u001b[0m\u001b[0;34m,\u001b[0m \u001b[0mindex\u001b[0m\u001b[0;34m=\u001b[0m\u001b[0;32mFalse\u001b[0m\u001b[0;34m)\u001b[0m\u001b[0;34m\u001b[0m\u001b[0;34m\u001b[0m\u001b[0m\n",
      "\u001b[0;32m/usr/local/lib/python3.7/dist-packages/pandas/core/generic.py\u001b[0m in \u001b[0;36m__getattr__\u001b[0;34m(self, name)\u001b[0m\n\u001b[1;32m   5139\u001b[0m             \u001b[0;32mif\u001b[0m \u001b[0mself\u001b[0m\u001b[0;34m.\u001b[0m\u001b[0m_info_axis\u001b[0m\u001b[0;34m.\u001b[0m\u001b[0m_can_hold_identifiers_and_holds_name\u001b[0m\u001b[0;34m(\u001b[0m\u001b[0mname\u001b[0m\u001b[0;34m)\u001b[0m\u001b[0;34m:\u001b[0m\u001b[0;34m\u001b[0m\u001b[0;34m\u001b[0m\u001b[0m\n\u001b[1;32m   5140\u001b[0m                 \u001b[0;32mreturn\u001b[0m \u001b[0mself\u001b[0m\u001b[0;34m[\u001b[0m\u001b[0mname\u001b[0m\u001b[0;34m]\u001b[0m\u001b[0;34m\u001b[0m\u001b[0;34m\u001b[0m\u001b[0m\n\u001b[0;32m-> 5141\u001b[0;31m             \u001b[0;32mreturn\u001b[0m \u001b[0mobject\u001b[0m\u001b[0;34m.\u001b[0m\u001b[0m__getattribute__\u001b[0m\u001b[0;34m(\u001b[0m\u001b[0mself\u001b[0m\u001b[0;34m,\u001b[0m \u001b[0mname\u001b[0m\u001b[0;34m)\u001b[0m\u001b[0;34m\u001b[0m\u001b[0;34m\u001b[0m\u001b[0m\n\u001b[0m\u001b[1;32m   5142\u001b[0m \u001b[0;34m\u001b[0m\u001b[0m\n\u001b[1;32m   5143\u001b[0m     \u001b[0;32mdef\u001b[0m \u001b[0m__setattr__\u001b[0m\u001b[0;34m(\u001b[0m\u001b[0mself\u001b[0m\u001b[0;34m,\u001b[0m \u001b[0mname\u001b[0m\u001b[0;34m:\u001b[0m \u001b[0mstr\u001b[0m\u001b[0;34m,\u001b[0m \u001b[0mvalue\u001b[0m\u001b[0;34m)\u001b[0m \u001b[0;34m->\u001b[0m \u001b[0;32mNone\u001b[0m\u001b[0;34m:\u001b[0m\u001b[0;34m\u001b[0m\u001b[0;34m\u001b[0m\u001b[0m\n",
      "\u001b[0;31mAttributeError\u001b[0m: 'DataFrame' object has no attribute 'id'"
     ]
    }
   ],
   "source": [
    "submission = pd.DataFrame({\n",
    "    \"id\" : test.id,\n",
    "    \"quality\":pred,\n",
    "})\n",
    "submission.to_csv('xgboost_submission.csv', index=False)"
   ]
  },
  {
   "cell_type": "markdown",
   "metadata": {},
   "source": [
    "## 결과 분석"
   ]
  },
  {
   "cell_type": "code",
   "execution_count": 16,
   "metadata": {},
   "outputs": [
    {
     "data": {
      "text/plain": [
       "array([[0.03053056, 0.17074002, 0.38287398, 0.37026954, 0.0455859 ],\n",
       "       [0.01171091, 0.3204117 , 0.6591363 , 0.00578748, 0.00295359],\n",
       "       [0.1068255 , 0.348887  , 0.4742907 , 0.06181047, 0.00818635],\n",
       "       ...,\n",
       "       [0.01366837, 0.7655141 , 0.18749109, 0.02298836, 0.01033814],\n",
       "       [0.0040992 , 0.02094553, 0.35545975, 0.40400103, 0.21549448],\n",
       "       [0.01033375, 0.09638185, 0.43603805, 0.36572936, 0.09151697]],\n",
       "      dtype=float32)"
      ]
     },
     "execution_count": 16,
     "metadata": {},
     "output_type": "execute_result"
    }
   ],
   "source": [
    "pred = pd.DataFrame(pred)\n",
    "pred_prob"
   ]
  },
  {
   "cell_type": "code",
   "execution_count": 18,
   "metadata": {},
   "outputs": [
    {
     "data": {
      "text/plain": [
       "6    1893\n",
       "5    1047\n",
       "7     266\n",
       "4      21\n",
       "8       4\n",
       "Name: 0, dtype: int64"
      ]
     },
     "execution_count": 18,
     "metadata": {},
     "output_type": "execute_result"
    }
   ],
   "source": [
    "pred[0].value_counts()"
   ]
  },
  {
   "cell_type": "code",
   "execution_count": 17,
   "metadata": {},
   "outputs": [
    {
     "data": {
      "text/plain": [
       "<BarContainer object of 5 artists>"
      ]
     },
     "execution_count": 17,
     "metadata": {},
     "output_type": "execute_result"
    },
    {
     "data": {
      "image/png": "[encoded data removed]",
      "text/plain": [
       "<Figure size 720x720 with 1 Axes>"
      ]
     },
     "metadata": {
      "needs_background": "light"
     },
     "output_type": "display_data"
    }
   ],
   "source": [
    "plt.subplots(1,1,figsize=(10,10))\n",
    "plt.bar (x= pred[0].value_counts().index, height = pred[0].value_counts())"
   ]
  },
  {
   "cell_type": "code",
   "execution_count": 55,
   "metadata": {},
   "outputs": [
    {
     "data": {
      "text/plain": [
       "<matplotlib.axes._subplots.AxesSubplot at 0x7f32dda82b90>"
      ]
     },
     "execution_count": 55,
     "metadata": {},
     "output_type": "execute_result"
    },
    {
     "data": {
      "image/png": "[encoded data removed]",
      "text/plain": [
       "<Figure size 720x720 with 1 Axes>"
      ]
     },
     "metadata": {
      "needs_background": "light"
     },
     "output_type": "display_data"
    }
   ],
   "source": [
    "fig, ax = plt.subplots(1,1, figsize=(10,10))\n",
    "xgboost.plot_importance(model,ax)"
   ]
  },
  {
   "cell_type": "markdown",
   "metadata": {},
   "source": [
    "# DATA IMBALANCE 해결하기 : ADASYN (Adaptive Synthetic Sampling)\n",
    "\n",
    "SMOTE (Synthetic Minority OverSampling Technique)이 kNN을 이용해서 소수 클래스의 양을 증가시키는 방법이라면, ADASYN은 여기에 조금 더 미세한 값들을 더해줌으로써 분산을 증가시켜, 더 사실적인 데이터를 만드는 방법이다"
   ]
  },
  {
   "cell_type": "code",
   "execution_count": 83,
   "metadata": {},
   "outputs": [
    {
     "name": "stdout",
     "output_type": "stream",
     "text": [
      "<class 'pandas.core.frame.DataFrame'>\n",
      "RangeIndex: 3231 entries, 0 to 3230\n",
      "Data columns (total 13 columns):\n",
      " #   Column                Non-Null Count  Dtype  \n",
      "---  ------                --------------  -----  \n",
      " 0   fixed acidity         3231 non-null   float64\n",
      " 1   volatile acidity      3231 non-null   float64\n",
      " 2   citric acid           3231 non-null   float64\n",
      " 3   residual sugar        3231 non-null   float64\n",
      " 4   chlorides             3231 non-null   float64\n",
      " 5   free sulfur dioxide   3231 non-null   float64\n",
      " 6   total sulfur dioxide  3231 non-null   float64\n",
      " 7   density               3231 non-null   float64\n",
      " 8   pH                    3231 non-null   float64\n",
      " 9   sulphates             3231 non-null   float64\n",
      " 10  alcohol               3231 non-null   float64\n",
      " 11  type                  3231 non-null   int64  \n",
      " 12  quality               3231 non-null   int64  \n",
      "dtypes: float64(11), int64(2)\n",
      "memory usage: 328.3 KB\n"
     ]
    }
   ],
   "source": [
    "train.info()"
   ]
  },
  {
   "cell_type": "markdown",
   "metadata": {},
   "source": [
    "기존 데이터를 분석해보면 다음과 같다. ```quality 4, 8```에 해당하는 데이터가 매우 부족한 것을 볼 수 있다. "
   ]
  },
  {
   "cell_type": "code",
   "execution_count": 84,
   "metadata": {},
   "outputs": [
    {
     "data": {
      "image/png": "[encoded data removed]",
      "text/plain": [
       "<Figure size 360x360 with 1 Axes>"
      ]
     },
     "metadata": {
      "needs_background": "light"
     },
     "output_type": "display_data"
    }
   ],
   "source": [
    "fig, ax = plt.subplots(1,1,figsize=(5,5))\n",
    "var = train['quality'].value_counts()\n",
    "plt.bar(var.index, var)\n",
    "plt.show()"
   ]
  },
  {
   "cell_type": "markdown",
   "metadata": {},
   "source": [
    "ADASYN을 이용해 부족한 클래스들을 오버샘플링 해보자"
   ]
  },
  {
   "cell_type": "code",
   "execution_count": 69,
   "metadata": {},
   "outputs": [],
   "source": [
    "ada = ADASYN(random_state=42)\n",
    "X_train_resampled, y_train_resampled = ada.fit_resample(X_train, y_train)   "
   ]
  },
  {
   "cell_type": "code",
   "execution_count": 70,
   "metadata": {},
   "outputs": [
    {
     "data": {
      "image/png": "[encoded data removed]",
      "text/plain": [
       "<Figure size 360x360 with 1 Axes>"
      ]
     },
     "metadata": {
      "needs_background": "light"
     },
     "output_type": "display_data"
    }
   ],
   "source": [
    "fig, ax = plt.subplots(1,1,figsize=(5,5))\n",
    "var = y_train_resampled.value_counts()\n",
    "plt.bar(var.index, var)\n",
    "plt.show()"
   ]
  },
  {
   "cell_type": "markdown",
   "metadata": {},
   "source": [
    "모든 클래스가 거의 1300여개 정도로 Resampling된 것을 볼 수 있다. 데이터를 저장하자"
   ]
  },
  {
   "cell_type": "code",
   "execution_count": 71,
   "metadata": {},
   "outputs": [],
   "source": [
    "X_train_resampled.to_csv('./dataset/X_train_resampled.csv', index_label=False)\n",
    "y_train_resampled.to_csv('./dataset/y_train_resampled.csv', index_label=False)"
   ]
  },
  {
   "cell_type": "markdown",
   "metadata": {},
   "source": [
    "# Optuna를 이용해 hyperparameter tuning 해보기"
   ]
  },
  {
   "cell_type": "markdown",
   "metadata": {},
   "source": [
    "GROUP 1: max_depth , min_child_weight\n",
    "\n",
    "GROUP 2: subsample, colsample_bytree\n",
    "\n",
    "GROUP 3: learning_rate, num_boost_round\n",
    "\n",
    "순차적으로 tuning을 진행한다. 한 그룹의 튜닝을 진행할 때, 다른 모든 그룹은 값을 고정한다. 튜닝을 진행한 값은 고정하여 이후에 다시 변하지 않는다. ```learing_rate, num_boos_round```는 각각 0.1과 1000으로 고정한다"
   ]
  },
  {
   "cell_type": "code",
   "execution_count": 46,
   "metadata": {},
   "outputs": [
    {
     "name": "stderr",
     "output_type": "stream",
     "text": [
      "\u001b[32m[I 2021-12-04 02:22:26,655]\u001b[0m A new study created in memory with name: no-name-bef98215-dd70-4f1d-9f7a-12956484e89f\u001b[0m\n"
     ]
    },
    {
     "name": "stdout",
     "output_type": "stream",
     "text": [
      "=========================== Optimizing Group - 1 ============================\n"
     ]
    },
    {
     "name": "stderr",
     "output_type": "stream",
     "text": [
      "\u001b[32m[I 2021-12-04 02:22:29,296]\u001b[0m Trial 0 finished with value: 1.244991797959609 and parameters: {'max_depth': 8, 'min_child_weight': 2493391108.868087}. Best is trial 0 with value: 1.244991797959609.\u001b[0m\n",
      "\u001b[32m[I 2021-12-04 02:22:35,547]\u001b[0m Trial 1 finished with value: 0.8135321887053782 and parameters: {'max_depth': 3, 'min_child_weight': 2.967080982998148}. Best is trial 1 with value: 0.8135321887053782.\u001b[0m\n",
      "\u001b[32m[I 2021-12-04 02:22:41,936]\u001b[0m Trial 2 finished with value: 0.9598393546643917 and parameters: {'max_depth': 10, 'min_child_weight': 135.0831671617442}. Best is trial 1 with value: 0.8135321887053782.\u001b[0m\n",
      "\u001b[32m[I 2021-12-04 02:22:57,827]\u001b[0m Trial 3 finished with value: 0.2731458132677829 and parameters: {'max_depth': 7, 'min_child_weight': 0.2797038374717507}. Best is trial 3 with value: 0.2731458132677829.\u001b[0m\n",
      "\u001b[32m[I 2021-12-04 02:23:19,280]\u001b[0m Trial 4 finished with value: 0.1177553661052035 and parameters: {'max_depth': 9, 'min_child_weight': 6.567166576162483e-05}. Best is trial 4 with value: 0.1177553661052035.\u001b[0m\n",
      "\u001b[32m[I 2021-12-04 02:23:21,830]\u001b[0m Trial 5 finished with value: 1.244991797959609 and parameters: {'max_depth': 3, 'min_child_weight': 3621066318.0718894}. Best is trial 4 with value: 0.1177553661052035.\u001b[0m\n",
      "\u001b[32m[I 2021-12-04 02:23:24,390]\u001b[0m Trial 6 finished with value: 1.244991797959609 and parameters: {'max_depth': 6, 'min_child_weight': 198246.2527347298}. Best is trial 4 with value: 0.1177553661052035.\u001b[0m\n",
      "\u001b[32m[I 2021-12-04 02:23:34,758]\u001b[0m Trial 7 finished with value: 0.8223136817936704 and parameters: {'max_depth': 7, 'min_child_weight': 61.94737943059992}. Best is trial 4 with value: 0.1177553661052035.\u001b[0m\n",
      "\u001b[32m[I 2021-12-04 02:23:54,141]\u001b[0m Trial 8 finished with value: 0.1756154321847787 and parameters: {'max_depth': 8, 'min_child_weight': 4.0137755067384204e-07}. Best is trial 4 with value: 0.1177553661052035.\u001b[0m\n",
      "\u001b[32m[I 2021-12-04 02:24:18,376]\u001b[0m Trial 9 finished with value: 0.06733497603718884 and parameters: {'max_depth': 10, 'min_child_weight': 0.03886684436335368}. Best is trial 9 with value: 0.06733497603718884.\u001b[0m\n",
      "\u001b[32m[I 2021-12-04 02:24:18,382]\u001b[0m A new study created in memory with name: no-name-2070f5d2-fe12-4e17-9b4b-fe75997300d7\u001b[0m\n"
     ]
    },
    {
     "name": "stdout",
     "output_type": "stream",
     "text": [
      "BEST CV SCORE 0.06733497603718884\n",
      "OPTIMAL GROUP - 1 PARAMS:  {'max_depth': 10, 'min_child_weight': 0.03886684436335368}\n",
      "=========================== Optimizing Group - 2 ============================\n"
     ]
    },
    {
     "name": "stderr",
     "output_type": "stream",
     "text": [
      "\u001b[32m[I 2021-12-04 02:24:23,723]\u001b[0m Trial 0 finished with value: 0.7465076396747369 and parameters: {'subsample': 0.5164930323307895, 'colsample_bytree': 0.02730793266358833}. Best is trial 0 with value: 0.7465076396747369.\u001b[0m\n",
      "\u001b[32m[I 2021-12-04 02:24:29,231]\u001b[0m Trial 1 finished with value: 0.7248553699963383 and parameters: {'subsample': 0.7104843248067788, 'colsample_bytree': 0.04567862855052751}. Best is trial 1 with value: 0.7248553699963383.\u001b[0m\n",
      "\u001b[32m[I 2021-12-04 02:24:51,774]\u001b[0m Trial 2 finished with value: 0.07110559124184218 and parameters: {'subsample': 0.743723088074654, 'colsample_bytree': 0.8906325813331374}. Best is trial 2 with value: 0.07110559124184218.\u001b[0m\n",
      "\u001b[32m[I 2021-12-04 02:25:01,720]\u001b[0m Trial 3 finished with value: 0.12895649736409898 and parameters: {'subsample': 0.8426570260196562, 'colsample_bytree': 0.25336383023840536}. Best is trial 2 with value: 0.07110559124184218.\u001b[0m\n",
      "\u001b[32m[I 2021-12-04 02:25:14,859]\u001b[0m Trial 4 finished with value: 0.2573812009640734 and parameters: {'subsample': 0.2275051240049757, 'colsample_bytree': 0.8161965086764251}. Best is trial 2 with value: 0.07110559124184218.\u001b[0m\n",
      "\u001b[32m[I 2021-12-04 02:25:36,547]\u001b[0m Trial 5 finished with value: 0.06479897681425961 and parameters: {'subsample': 0.8491720457696501, 'colsample_bytree': 0.86356915873729}. Best is trial 5 with value: 0.06479897681425961.\u001b[0m\n",
      "\u001b[32m[I 2021-12-04 02:25:51,053]\u001b[0m Trial 6 finished with value: 0.1363363222982037 and parameters: {'subsample': 0.4709345267705266, 'colsample_bytree': 0.5863411405129737}. Best is trial 5 with value: 0.06479897681425961.\u001b[0m\n",
      "\u001b[32m[I 2021-12-04 02:26:01,537]\u001b[0m Trial 7 finished with value: 0.3896668889143002 and parameters: {'subsample': 0.14613652656374665, 'colsample_bytree': 0.7192782102275629}. Best is trial 5 with value: 0.06479897681425961.\u001b[0m\n",
      "\u001b[32m[I 2021-12-04 02:26:06,911]\u001b[0m Trial 8 finished with value: 0.7289254792202962 and parameters: {'subsample': 0.669334928297854, 'colsample_bytree': 0.13673846462374595}. Best is trial 5 with value: 0.06479897681425961.\u001b[0m\n",
      "\u001b[32m[I 2021-12-04 02:26:25,053]\u001b[0m Trial 9 finished with value: 0.0675518897833912 and parameters: {'subsample': 0.9712427829389408, 'colsample_bytree': 0.6660142166007672}. Best is trial 5 with value: 0.06479897681425961.\u001b[0m\n",
      "\u001b[32m[I 2021-12-04 02:26:25,060]\u001b[0m A new study created in memory with name: no-name-fa5bab87-ae4c-4002-977d-b88dc2ea9ae7\u001b[0m\n"
     ]
    },
    {
     "name": "stdout",
     "output_type": "stream",
     "text": [
      "BEST CV SCORE 0.06479897681425961\n",
      "OPTIMAL GROUP - 2 PARAMS:  {'subsample': 0.8491720457696501, 'colsample_bytree': 0.86356915873729}\n",
      "=========================== Optimizing Group - 3 ============================\n"
     ]
    },
    {
     "name": "stderr",
     "output_type": "stream",
     "text": [
      "\u001b[32m[I 2021-12-04 02:26:47,281]\u001b[0m Trial 0 finished with value: 0.15921561834807366 and parameters: {'learning_rate': 0.05697400983982549, 'num_boost_round': 989}. Best is trial 0 with value: 0.15921561834807366.\u001b[0m\n",
      "\u001b[32m[I 2021-12-04 02:27:09,197]\u001b[0m Trial 1 finished with value: 0.13963247049474212 and parameters: {'learning_rate': 0.06391019017540928, 'num_boost_round': 569}. Best is trial 1 with value: 0.13963247049474212.\u001b[0m\n",
      "\u001b[32m[I 2021-12-04 02:27:31,669]\u001b[0m Trial 2 finished with value: 0.6390078610880977 and parameters: {'learning_rate': 0.015469396112672862, 'num_boost_round': 474}. Best is trial 1 with value: 0.13963247049474212.\u001b[0m\n",
      "\u001b[32m[I 2021-12-04 02:27:53,316]\u001b[0m Trial 3 finished with value: 0.07854536343400496 and parameters: {'learning_rate': 0.09072308599135677, 'num_boost_round': 338}. Best is trial 3 with value: 0.07854536343400496.\u001b[0m\n",
      "\u001b[32m[I 2021-12-04 02:28:15,201]\u001b[0m Trial 4 finished with value: 0.13516463569003115 and parameters: {'learning_rate': 0.06491494322374053, 'num_boost_round': 182}. Best is trial 3 with value: 0.07854536343400496.\u001b[0m\n",
      "\u001b[32m[I 2021-12-04 02:28:37,688]\u001b[0m Trial 5 finished with value: 1.148604202218854 and parameters: {'learning_rate': 0.00480750315727152, 'num_boost_round': 140}. Best is trial 3 with value: 0.07854536343400496.\u001b[0m\n",
      "\u001b[32m[I 2021-12-04 02:28:59,379]\u001b[0m Trial 6 finished with value: 0.1017396125708413 and parameters: {'learning_rate': 0.07775850510679627, 'num_boost_round': 571}. Best is trial 3 with value: 0.07854536343400496.\u001b[0m\n",
      "\u001b[32m[I 2021-12-04 02:29:21,726]\u001b[0m Trial 7 finished with value: 0.3847409117031821 and parameters: {'learning_rate': 0.027389412544829874, 'num_boost_round': 890}. Best is trial 3 with value: 0.07854536343400496.\u001b[0m\n",
      "\u001b[32m[I 2021-12-04 02:29:43,776]\u001b[0m Trial 8 finished with value: 0.2344969486819447 and parameters: {'learning_rate': 0.04261642679722865, 'num_boost_round': 221}. Best is trial 3 with value: 0.07854536343400496.\u001b[0m\n",
      "\u001b[32m[I 2021-12-04 02:30:05,716]\u001b[0m Trial 9 finished with value: 0.15313629354418007 and parameters: {'learning_rate': 0.05913047253976468, 'num_boost_round': 977}. Best is trial 3 with value: 0.07854536343400496.\u001b[0m\n"
     ]
    },
    {
     "name": "stdout",
     "output_type": "stream",
     "text": [
      "BEST CV SCORE 0.07854536343400496\n",
      "OPTIMAL GROUP - 3 PARAMS:  {'learning_rate': 0.09072308599135677, 'num_boost_round': 338}\n",
      "BEST SCORE : 0.07854536343400496\n",
      "PARAMS after optimizing GROUP - 3:  {'learning_rate': 0.09072308599135677, 'num_boost_round': 338, 'max_depth': 10, 'min_child_weight': 0.03886684436335368, 'subsample': 0.8491720457696501, 'colsample_bytree': 0.86356915873729}\n",
      "\n",
      "\n",
      "=========================== FINAL OPTIMAL PARAMETERS ============================\n",
      "{'learning_rate': 0.09072308599135677, 'num_boost_round': 338, 'max_depth': 10, 'min_child_weight': 0.03886684436335368, 'subsample': 0.8491720457696501, 'colsample_bytree': 0.86356915873729}\n"
     ]
    }
   ],
   "source": [
    "import optuna\n",
    "from sklearn.metrics import log_loss\n",
    "\n",
    "\n",
    "# 순차적으로 업데이트를 진행할 것이기 때문에 params dict를 불러온다\n",
    "def objective(trial, X, y, group, params=dict()):\n",
    "    ## Initial Learning Parameters\n",
    "    params['learning_rate'] = 0.1\n",
    "    params['num_boost_round'] = 1000\n",
    "\n",
    "    if group == '1':\n",
    "        params['max_depth'] = trial.suggest_int('max_depth', 2, 10)\n",
    "        params['min_child_weight'] = trial.suggest_loguniform(\n",
    "            'min_child_weight', 1e-10, 1e10)\n",
    "\n",
    "    if group == '2':\n",
    "        params['subsample'] = trial.suggest_uniform('subsample', 0, 1)\n",
    "        params['colsample_bytree'] = trial.suggest_uniform(\n",
    "            'colsample_bytree', 0, 1)\n",
    "\n",
    "    if group == '3':\n",
    "        params['learning_rate'] = trial.suggest_uniform(\n",
    "            'learning_rate', 0, 0.1)\n",
    "        params['num_boost_round'] = trial.suggest_int('num_boost_round', 100,\n",
    "                                                      1000)\n",
    "\n",
    "    model = XGBClassifier(**params)\n",
    "    loss_list = []\n",
    "    skf = StratifiedKFold(n_splits = 3)\n",
    "    for train_index, val_index in skf.split(X_train, y_train):\n",
    "        # print(train_index)\n",
    "        train_x = X_train.iloc[train_index]\n",
    "        train_y = y_train.iloc[train_index]\n",
    "        val_x = X_train.iloc[val_index]\n",
    "        val_y= y_train.iloc[val_index]\n",
    "        model.fit(X=X_train,\n",
    "                y=y_train,\n",
    "                eval_set=[(val_x, val_y)],\n",
    "                eval_metric='mlogloss',\n",
    "                early_stopping_rounds=30,\n",
    "                verbose=False)\n",
    "        loss = log_loss(y_true = val_y, y_pred = model.predict_proba(val_x))\n",
    "        loss_list.append(loss)\n",
    "    # print(f'loss_list = {loss_list}')\n",
    "\n",
    "    # 평균 loss를 반환한다\n",
    "    return np.array(loss_list).mean()\n",
    "\n",
    "# 각 group마다 trials만큼 hyperparameter tuning을 실시한다\n",
    "study_dict = dict()\n",
    "def stepwise_optimization(trials=10):\n",
    "    final_params = dict()\n",
    "\n",
    "    for group_num in ['1', '2', '3']:\n",
    "        print(\n",
    "            f\"=========================== Optimizing Group - {group_num} ============================\"\n",
    "        )\n",
    "\n",
    "        study = optuna.create_study(direction='minimize')\n",
    "\n",
    "        study.optimize(lambda trial : objective(trial, X_train, y_train, group=group_num, params=final_params), n_trials=trials)\n",
    "        print(\"BEST CV SCORE\", study.best_value)\n",
    "        print(f\"OPTIMAL GROUP - {group_num} PARAMS: \", study.best_params)\n",
    "        \n",
    "        final_params.update(study.best_params)\n",
    "\n",
    "        study_dict[group_num] = study\n",
    "\n",
    "    print(f'BEST SCORE : {study.best_value}')\n",
    "    print(f\"PARAMS after optimizing GROUP - {group_num}: \", final_params)\n",
    "    print()\n",
    "    print()\n",
    "\n",
    "    print(\n",
    "        \"=========================== FINAL OPTIMAL PARAMETERS ============================\"\n",
    "    )\n",
    "    print(final_params)\n",
    "\n",
    "    return final_params\n",
    "\n",
    "best_param = stepwise_optimization(10)\n"
   ]
  },
  {
   "cell_type": "code",
   "execution_count": null,
   "metadata": {},
   "outputs": [],
   "source": [
    "# 하이퍼파라미터별 중요도를 확인할 수 있는 그래프\n",
    "# optuna.visualization.plot_param_importances(study_dict['3'])"
   ]
  },
  {
   "cell_type": "code",
   "execution_count": null,
   "metadata": {},
   "outputs": [],
   "source": [
    "# 하이퍼파라미터 최적화 과정을 확인\n",
    "# optuna.visualization.plot_optimization_history(study_dict['3'])"
   ]
  },
  {
   "cell_type": "code",
   "execution_count": 58,
   "metadata": {},
   "outputs": [],
   "source": [
    "import pickle\n",
    "with open ('./best_param.pkl', 'wb') as f:\n",
    "    pickle.dump(best_param, f)"
   ]
  }
 ],
 "metadata": {
  "interpreter": {
   "hash": "31f2aee4e71d21fbe5cf8b01ff0e069b9275f58929596ceb00d14d90e3e16cd6"
  },
  "kernelspec": {
   "display_name": "Python 3.7.12 64-bit",
   "language": "python",
   "name": "python3"
  },
  "language_info": {
   "codemirror_mode": {
    "name": "ipython",
    "version": 3
   },
   "file_extension": ".py",
   "mimetype": "text/x-python",
   "name": "python",
   "nbconvert_exporter": "python",
   "pygments_lexer": "ipython3",
   "version": "3.7.12"
  },
  "orig_nbformat": 4
 },
 "nbformat": 4,
 "nbformat_minor": 2
}
